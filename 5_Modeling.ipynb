{
 "cells": [
  {
   "cell_type": "code",
   "execution_count": 1,
   "id": "ea9e40f0",
   "metadata": {},
   "outputs": [
    {
     "name": "stderr",
     "output_type": "stream",
     "text": [
      "Setting default log level to \"WARN\".\n",
      "To adjust logging level use sc.setLogLevel(newLevel). For SparkR, use setLogLevel(newLevel).\n"
     ]
    },
    {
     "name": "stdout",
     "output_type": "stream",
     "text": [
      "22/09/05 13:29:55 WARN NativeCodeLoader: Unable to load native-hadoop library for your platform... using builtin-java classes where applicable\n"
     ]
    }
   ],
   "source": [
    "import pyspark.sql.functions as F\n",
    "from pyspark.sql.types import *\n",
    "\n",
    "import findspark\n",
    "findspark.init()\n",
    "\n",
    "import pyspark\n",
    "from pyspark.sql import SparkSession\n",
    "findspark.find()\n",
    "\n",
    "spark = SparkSession.builder.getOrCreate()\n",
    "from pyspark.sql.types import *"
   ]
  },
  {
   "cell_type": "code",
   "execution_count": 2,
   "id": "46d6670c",
   "metadata": {
    "scrolled": true
   },
   "outputs": [
    {
     "data": {
      "text/html": [
       "\n",
       "            <div>\n",
       "                <p><b>SparkSession - in-memory</b></p>\n",
       "                \n",
       "        <div>\n",
       "            <p><b>SparkContext</b></p>\n",
       "\n",
       "            <p><a href=\"http://10.80.7.159:4040\">Spark UI</a></p>\n",
       "\n",
       "            <dl>\n",
       "              <dt>Version</dt>\n",
       "                <dd><code>v3.3.0</code></dd>\n",
       "              <dt>Master</dt>\n",
       "                <dd><code>local[*]</code></dd>\n",
       "              <dt>AppName</dt>\n",
       "                <dd><code>pyspark-shell</code></dd>\n",
       "            </dl>\n",
       "        </div>\n",
       "        \n",
       "            </div>\n",
       "        "
      ],
      "text/plain": [
       "<pyspark.sql.session.SparkSession at 0x7fd203957610>"
      ]
     },
     "execution_count": 2,
     "metadata": {},
     "output_type": "execute_result"
    }
   ],
   "source": [
    "# check\n",
    "spark"
   ]
  },
  {
   "cell_type": "code",
   "execution_count": 3,
   "id": "f231ca05",
   "metadata": {},
   "outputs": [],
   "source": [
    "import pandas as pd\n",
    "import numpy as np\n",
    "import sklearn\n",
    "from sklearn.decomposition import TruncatedSVD\n",
    "from sklearn.feature_extraction.text import TfidfVectorizer\n",
    "from sklearn.feature_extraction.text import CountVectorizer\n",
    "from sklearn.preprocessing import Normalizer\n",
    "from sklearn import metrics\n",
    "\n",
    "import matplotlib.pyplot as plt\n",
    "\n",
    "# import the required functions\n",
    "from pyspark.ml.feature import Binarizer, StringIndexer, VectorIndexer, VectorAssembler, OneHotEncoder\n",
    "from pyspark.ml import Pipeline\n",
    "from pyspark.sql.types import DoubleType\n",
    "\n",
    "# import the required packages\n",
    "import sparknlp\n",
    "from pyspark.sql.functions import regexp_replace\n",
    "from pyspark.ml.feature import Tokenizer\n",
    "from pyspark.ml.feature import StopWordsRemover, HashingTF, IDF\n",
    "from sparknlp.base import DocumentAssembler\n",
    "from pyspark.ml.feature import StopWordsRemover, CountVectorizer\n",
    "\n",
    "# import the required packages\n",
    "from pyspark.ml.feature import Word2Vec\n",
    "\n",
    "import demoji\n",
    "\n",
    "from nltk.corpus import stopwords\n",
    "STOPWORDS = stopwords.words(\"english\")\n",
    "\n",
    "from vaderSentiment.vaderSentiment import SentimentIntensityAnalyzer\n",
    "\n",
    "import seaborn as sns\n",
    "import os"
   ]
  },
  {
   "cell_type": "markdown",
   "id": "83ae1932",
   "metadata": {},
   "source": [
    "# 1. load data "
   ]
  },
  {
   "cell_type": "markdown",
   "id": "8c24b539",
   "metadata": {},
   "source": [
    "os.getcwd()"
   ]
  },
  {
   "cell_type": "code",
   "execution_count": 4,
   "id": "6f1286ab",
   "metadata": {
    "scrolled": true
   },
   "outputs": [
    {
     "data": {
      "text/plain": [
       "'/Users/echo/Desktop/BigData/Group_Assignment'"
      ]
     },
     "execution_count": 4,
     "metadata": {},
     "output_type": "execute_result"
    }
   ],
   "source": [
    "os.getcwd()"
   ]
  },
  {
   "cell_type": "code",
   "execution_count": 5,
   "id": "475fd331",
   "metadata": {},
   "outputs": [],
   "source": [
    "# import data \n",
    "final_df = spark.read.csv('./data/twitter_ks_basetable.csv',header=True).drop('_c0')"
   ]
  },
  {
   "cell_type": "code",
   "execution_count": 6,
   "id": "f2d60bbe",
   "metadata": {
    "scrolled": true
   },
   "outputs": [
    {
     "data": {
      "text/html": [
       "<div>\n",
       "<style scoped>\n",
       "    .dataframe tbody tr th:only-of-type {\n",
       "        vertical-align: middle;\n",
       "    }\n",
       "\n",
       "    .dataframe tbody tr th {\n",
       "        vertical-align: top;\n",
       "    }\n",
       "\n",
       "    .dataframe thead th {\n",
       "        text-align: right;\n",
       "    }\n",
       "</style>\n",
       "<table border=\"1\" class=\"dataframe\">\n",
       "  <thead>\n",
       "    <tr style=\"text-align: right;\">\n",
       "      <th></th>\n",
       "      <th>id</th>\n",
       "      <th>pos_sentiment_osm_sum</th>\n",
       "      <th>neg_sentiment_osm_sum</th>\n",
       "      <th>neg_sentiment_esm_sum</th>\n",
       "      <th>pos_sentiment_esm_sum</th>\n",
       "      <th>rt_avg_osm</th>\n",
       "      <th>rt_avg_esm</th>\n",
       "      <th>uf_avg_osm</th>\n",
       "      <th>uf_avg_esm</th>\n",
       "      <th>ufr_avg_osm</th>\n",
       "      <th>...</th>\n",
       "      <th>us_avg_osm</th>\n",
       "      <th>us_avg_esm</th>\n",
       "      <th>Tweet_media_type_photo_sum</th>\n",
       "      <th>label</th>\n",
       "      <th>goal</th>\n",
       "      <th>Category_project</th>\n",
       "      <th>pledged</th>\n",
       "      <th>backers_count</th>\n",
       "      <th>percentage_pledged</th>\n",
       "      <th>duration_30</th>\n",
       "    </tr>\n",
       "  </thead>\n",
       "  <tbody>\n",
       "    <tr>\n",
       "      <th>0</th>\n",
       "      <td>1528387948</td>\n",
       "      <td>2.4475409836065576</td>\n",
       "      <td>0.6032786885245902</td>\n",
       "      <td>0.0</td>\n",
       "      <td>1.0</td>\n",
       "      <td>5.526197585587195</td>\n",
       "      <td>0.0</td>\n",
       "      <td>3563.0943577128814</td>\n",
       "      <td>412.0</td>\n",
       "      <td>982.1068795122508</td>\n",
       "      <td>...</td>\n",
       "      <td>8854.187024180192</td>\n",
       "      <td>823.0</td>\n",
       "      <td>1.0</td>\n",
       "      <td>1</td>\n",
       "      <td>8000.0</td>\n",
       "      <td>Comics</td>\n",
       "      <td>5515.29</td>\n",
       "      <td>74.0</td>\n",
       "      <td>0.68941125</td>\n",
       "      <td>0</td>\n",
       "    </tr>\n",
       "    <tr>\n",
       "      <th>1</th>\n",
       "      <td>2040864868</td>\n",
       "      <td>2.4475409836065576</td>\n",
       "      <td>0.6032786885245902</td>\n",
       "      <td>0.0</td>\n",
       "      <td>2.0</td>\n",
       "      <td>5.526197585587195</td>\n",
       "      <td>0.5</td>\n",
       "      <td>3563.0943577128814</td>\n",
       "      <td>1069.0</td>\n",
       "      <td>982.1068795122508</td>\n",
       "      <td>...</td>\n",
       "      <td>8854.187024180192</td>\n",
       "      <td>18111.0</td>\n",
       "      <td>0.0</td>\n",
       "      <td>1</td>\n",
       "      <td>38500.0</td>\n",
       "      <td>Games</td>\n",
       "      <td>4933.5</td>\n",
       "      <td>179.0</td>\n",
       "      <td>0.12814285714285714</td>\n",
       "      <td>1</td>\n",
       "    </tr>\n",
       "    <tr>\n",
       "      <th>2</th>\n",
       "      <td>1930851456</td>\n",
       "      <td>0.0</td>\n",
       "      <td>0.0</td>\n",
       "      <td>0.7494669509594882</td>\n",
       "      <td>2.4520255863539444</td>\n",
       "      <td>2.0</td>\n",
       "      <td>1.432957127002231</td>\n",
       "      <td>8.0</td>\n",
       "      <td>5754.908267090226</td>\n",
       "      <td>8.0</td>\n",
       "      <td>...</td>\n",
       "      <td>4.0</td>\n",
       "      <td>27513.677452778888</td>\n",
       "      <td>0.0</td>\n",
       "      <td>1</td>\n",
       "      <td>1800.0</td>\n",
       "      <td>Missing</td>\n",
       "      <td>58070.82196511628</td>\n",
       "      <td>270.35</td>\n",
       "      <td>0.0</td>\n",
       "      <td>0</td>\n",
       "    </tr>\n",
       "    <tr>\n",
       "      <th>3</th>\n",
       "      <td>55331564</td>\n",
       "      <td>2.4475409836065576</td>\n",
       "      <td>0.6032786885245902</td>\n",
       "      <td>0.0</td>\n",
       "      <td>1.0</td>\n",
       "      <td>5.526197585587195</td>\n",
       "      <td>0.0</td>\n",
       "      <td>3563.0943577128814</td>\n",
       "      <td>25807.5</td>\n",
       "      <td>982.1068795122508</td>\n",
       "      <td>...</td>\n",
       "      <td>8854.187024180192</td>\n",
       "      <td>17716.0</td>\n",
       "      <td>0.0</td>\n",
       "      <td>1</td>\n",
       "      <td>2500.0</td>\n",
       "      <td>Missing</td>\n",
       "      <td>58070.82196511628</td>\n",
       "      <td>270.35</td>\n",
       "      <td>0.0</td>\n",
       "      <td>0</td>\n",
       "    </tr>\n",
       "    <tr>\n",
       "      <th>4</th>\n",
       "      <td>770339794</td>\n",
       "      <td>2.4475409836065576</td>\n",
       "      <td>0.6032786885245902</td>\n",
       "      <td>0.0</td>\n",
       "      <td>0.0</td>\n",
       "      <td>5.526197585587195</td>\n",
       "      <td>0.0</td>\n",
       "      <td>3563.0943577128814</td>\n",
       "      <td>1.0</td>\n",
       "      <td>982.1068795122508</td>\n",
       "      <td>...</td>\n",
       "      <td>8854.187024180192</td>\n",
       "      <td>66.0</td>\n",
       "      <td>0.0</td>\n",
       "      <td>0</td>\n",
       "      <td>30000.0</td>\n",
       "      <td>Food</td>\n",
       "      <td>1.0</td>\n",
       "      <td>1.0</td>\n",
       "      <td>3.3333333333333335e-05</td>\n",
       "      <td>0</td>\n",
       "    </tr>\n",
       "  </tbody>\n",
       "</table>\n",
       "<p>5 rows × 23 columns</p>\n",
       "</div>"
      ],
      "text/plain": [
       "           id pos_sentiment_osm_sum neg_sentiment_osm_sum  \\\n",
       "0  1528387948    2.4475409836065576    0.6032786885245902   \n",
       "1  2040864868    2.4475409836065576    0.6032786885245902   \n",
       "2  1930851456                   0.0                   0.0   \n",
       "3    55331564    2.4475409836065576    0.6032786885245902   \n",
       "4   770339794    2.4475409836065576    0.6032786885245902   \n",
       "\n",
       "  neg_sentiment_esm_sum pos_sentiment_esm_sum         rt_avg_osm  \\\n",
       "0                   0.0                   1.0  5.526197585587195   \n",
       "1                   0.0                   2.0  5.526197585587195   \n",
       "2    0.7494669509594882    2.4520255863539444                2.0   \n",
       "3                   0.0                   1.0  5.526197585587195   \n",
       "4                   0.0                   0.0  5.526197585587195   \n",
       "\n",
       "          rt_avg_esm          uf_avg_osm         uf_avg_esm  \\\n",
       "0                0.0  3563.0943577128814              412.0   \n",
       "1                0.5  3563.0943577128814             1069.0   \n",
       "2  1.432957127002231                 8.0  5754.908267090226   \n",
       "3                0.0  3563.0943577128814            25807.5   \n",
       "4                0.0  3563.0943577128814                1.0   \n",
       "\n",
       "         ufr_avg_osm  ...         us_avg_osm          us_avg_esm  \\\n",
       "0  982.1068795122508  ...  8854.187024180192               823.0   \n",
       "1  982.1068795122508  ...  8854.187024180192             18111.0   \n",
       "2                8.0  ...                4.0  27513.677452778888   \n",
       "3  982.1068795122508  ...  8854.187024180192             17716.0   \n",
       "4  982.1068795122508  ...  8854.187024180192                66.0   \n",
       "\n",
       "  Tweet_media_type_photo_sum label     goal Category_project  \\\n",
       "0                        1.0     1   8000.0           Comics   \n",
       "1                        0.0     1  38500.0            Games   \n",
       "2                        0.0     1   1800.0          Missing   \n",
       "3                        0.0     1   2500.0          Missing   \n",
       "4                        0.0     0  30000.0             Food   \n",
       "\n",
       "             pledged backers_count      percentage_pledged duration_30  \n",
       "0            5515.29          74.0              0.68941125           0  \n",
       "1             4933.5         179.0     0.12814285714285714           1  \n",
       "2  58070.82196511628        270.35                     0.0           0  \n",
       "3  58070.82196511628        270.35                     0.0           0  \n",
       "4                1.0           1.0  3.3333333333333335e-05           0  \n",
       "\n",
       "[5 rows x 23 columns]"
      ]
     },
     "execution_count": 6,
     "metadata": {},
     "output_type": "execute_result"
    }
   ],
   "source": [
    "final_df.limit(5).toPandas()"
   ]
  },
  {
   "cell_type": "code",
   "execution_count": 57,
   "id": "9e839426",
   "metadata": {
    "scrolled": false
   },
   "outputs": [
    {
     "name": "stderr",
     "output_type": "stream",
     "text": [
      "                                                                                \r"
     ]
    },
    {
     "data": {
      "text/html": [
       "<div>\n",
       "<style scoped>\n",
       "    .dataframe tbody tr th:only-of-type {\n",
       "        vertical-align: middle;\n",
       "    }\n",
       "\n",
       "    .dataframe tbody tr th {\n",
       "        vertical-align: top;\n",
       "    }\n",
       "\n",
       "    .dataframe thead th {\n",
       "        text-align: right;\n",
       "    }\n",
       "</style>\n",
       "<table border=\"1\" class=\"dataframe\">\n",
       "  <thead>\n",
       "    <tr style=\"text-align: right;\">\n",
       "      <th></th>\n",
       "      <th>summary</th>\n",
       "      <th>id</th>\n",
       "      <th>pos_sentiment_osm_sum</th>\n",
       "      <th>neg_sentiment_osm_sum</th>\n",
       "      <th>neg_sentiment_esm_sum</th>\n",
       "      <th>pos_sentiment_esm_sum</th>\n",
       "      <th>rt_avg_osm</th>\n",
       "      <th>rt_avg_esm</th>\n",
       "      <th>uf_avg_osm</th>\n",
       "      <th>uf_avg_esm</th>\n",
       "      <th>...</th>\n",
       "      <th>us_avg_osm</th>\n",
       "      <th>us_avg_esm</th>\n",
       "      <th>Tweet_media_type_photo_sum</th>\n",
       "      <th>label</th>\n",
       "      <th>goal</th>\n",
       "      <th>Category_project</th>\n",
       "      <th>pledged</th>\n",
       "      <th>backers_count</th>\n",
       "      <th>percentage_pledged</th>\n",
       "      <th>duration_30</th>\n",
       "    </tr>\n",
       "  </thead>\n",
       "  <tbody>\n",
       "    <tr>\n",
       "      <th>0</th>\n",
       "      <td>count</td>\n",
       "      <td>6219</td>\n",
       "      <td>6219</td>\n",
       "      <td>6219</td>\n",
       "      <td>6219</td>\n",
       "      <td>6219</td>\n",
       "      <td>6219</td>\n",
       "      <td>6219</td>\n",
       "      <td>6219</td>\n",
       "      <td>6219</td>\n",
       "      <td>...</td>\n",
       "      <td>6219</td>\n",
       "      <td>6219</td>\n",
       "      <td>6219</td>\n",
       "      <td>6219</td>\n",
       "      <td>6219</td>\n",
       "      <td>6219</td>\n",
       "      <td>6219</td>\n",
       "      <td>6219</td>\n",
       "      <td>6219</td>\n",
       "      <td>6219</td>\n",
       "    </tr>\n",
       "    <tr>\n",
       "      <th>1</th>\n",
       "      <td>mean</td>\n",
       "      <td>1.0718713874942917E9</td>\n",
       "      <td>2.447540983606683</td>\n",
       "      <td>0.6032786885245119</td>\n",
       "      <td>0.7494669509594972</td>\n",
       "      <td>2.4520255863539178</td>\n",
       "      <td>5.52619758558692</td>\n",
       "      <td>1.4329571270022166</td>\n",
       "      <td>3563.094357712923</td>\n",
       "      <td>5754.908267090284</td>\n",
       "      <td>...</td>\n",
       "      <td>8854.187024181114</td>\n",
       "      <td>27513.67745277863</td>\n",
       "      <td>0.6930374658305194</td>\n",
       "      <td>0.874095513748191</td>\n",
       "      <td>66090.74047274482</td>\n",
       "      <td>None</td>\n",
       "      <td>58070.82196511561</td>\n",
       "      <td>270.3500000000191</td>\n",
       "      <td>0.7208247435778479</td>\n",
       "      <td>0.2630648014150185</td>\n",
       "    </tr>\n",
       "    <tr>\n",
       "      <th>2</th>\n",
       "      <td>stddev</td>\n",
       "      <td>6.22382428479419E8</td>\n",
       "      <td>11.023758974175104</td>\n",
       "      <td>0.9611282909731099</td>\n",
       "      <td>4.464843340312245</td>\n",
       "      <td>7.126144188269652</td>\n",
       "      <td>14.535981296125355</td>\n",
       "      <td>8.718361869534805</td>\n",
       "      <td>8605.244453118197</td>\n",
       "      <td>16259.409556983668</td>\n",
       "      <td>...</td>\n",
       "      <td>11137.344912770719</td>\n",
       "      <td>53493.115699582406</td>\n",
       "      <td>1.9725116656668373</td>\n",
       "      <td>0.33176836139081667</td>\n",
       "      <td>1090473.3132656927</td>\n",
       "      <td>None</td>\n",
       "      <td>229268.56649802497</td>\n",
       "      <td>450.94355481245</td>\n",
       "      <td>4.1091904916218756</td>\n",
       "      <td>0.4403327028216004</td>\n",
       "    </tr>\n",
       "    <tr>\n",
       "      <th>3</th>\n",
       "      <td>min</td>\n",
       "      <td>1000040509</td>\n",
       "      <td>0.0</td>\n",
       "      <td>0.0</td>\n",
       "      <td>0.0</td>\n",
       "      <td>0.0</td>\n",
       "      <td>0.0</td>\n",
       "      <td>0.0</td>\n",
       "      <td>0.0</td>\n",
       "      <td>0.0</td>\n",
       "      <td>...</td>\n",
       "      <td>1.0</td>\n",
       "      <td>1.0</td>\n",
       "      <td>0.0</td>\n",
       "      <td>0</td>\n",
       "      <td>1.0</td>\n",
       "      <td>Art</td>\n",
       "      <td>0.0</td>\n",
       "      <td>0.0</td>\n",
       "      <td>0.0</td>\n",
       "      <td>0</td>\n",
       "    </tr>\n",
       "    <tr>\n",
       "      <th>4</th>\n",
       "      <td>max</td>\n",
       "      <td>999282614</td>\n",
       "      <td>9.0</td>\n",
       "      <td>9.0</td>\n",
       "      <td>90.0</td>\n",
       "      <td>98.0</td>\n",
       "      <td>99.0</td>\n",
       "      <td>96.25</td>\n",
       "      <td>9998.0</td>\n",
       "      <td>999.9</td>\n",
       "      <td>...</td>\n",
       "      <td>9996.384615384615</td>\n",
       "      <td>9998.0</td>\n",
       "      <td>9.0</td>\n",
       "      <td>1</td>\n",
       "      <td>9999.0</td>\n",
       "      <td>Theater</td>\n",
       "      <td>996.0</td>\n",
       "      <td>99.0</td>\n",
       "      <td>93.074235</td>\n",
       "      <td>1</td>\n",
       "    </tr>\n",
       "  </tbody>\n",
       "</table>\n",
       "<p>5 rows × 24 columns</p>\n",
       "</div>"
      ],
      "text/plain": [
       "  summary                    id pos_sentiment_osm_sum neg_sentiment_osm_sum  \\\n",
       "0   count                  6219                  6219                  6219   \n",
       "1    mean  1.0718713874942917E9     2.447540983606683    0.6032786885245119   \n",
       "2  stddev    6.22382428479419E8    11.023758974175104    0.9611282909731099   \n",
       "3     min            1000040509                   0.0                   0.0   \n",
       "4     max             999282614                   9.0                   9.0   \n",
       "\n",
       "  neg_sentiment_esm_sum pos_sentiment_esm_sum          rt_avg_osm  \\\n",
       "0                  6219                  6219                6219   \n",
       "1    0.7494669509594972    2.4520255863539178    5.52619758558692   \n",
       "2     4.464843340312245     7.126144188269652  14.535981296125355   \n",
       "3                   0.0                   0.0                 0.0   \n",
       "4                  90.0                  98.0                99.0   \n",
       "\n",
       "           rt_avg_esm         uf_avg_osm          uf_avg_esm  ...  \\\n",
       "0                6219               6219                6219  ...   \n",
       "1  1.4329571270022166  3563.094357712923   5754.908267090284  ...   \n",
       "2   8.718361869534805  8605.244453118197  16259.409556983668  ...   \n",
       "3                 0.0                0.0                 0.0  ...   \n",
       "4               96.25             9998.0               999.9  ...   \n",
       "\n",
       "           us_avg_osm          us_avg_esm Tweet_media_type_photo_sum  \\\n",
       "0                6219                6219                       6219   \n",
       "1   8854.187024181114   27513.67745277863         0.6930374658305194   \n",
       "2  11137.344912770719  53493.115699582406         1.9725116656668373   \n",
       "3                 1.0                 1.0                        0.0   \n",
       "4   9996.384615384615              9998.0                        9.0   \n",
       "\n",
       "                 label                goal Category_project  \\\n",
       "0                 6219                6219             6219   \n",
       "1    0.874095513748191   66090.74047274482             None   \n",
       "2  0.33176836139081667  1090473.3132656927             None   \n",
       "3                    0                 1.0              Art   \n",
       "4                    1              9999.0          Theater   \n",
       "\n",
       "              pledged      backers_count  percentage_pledged  \\\n",
       "0                6219               6219                6219   \n",
       "1   58070.82196511561  270.3500000000191  0.7208247435778479   \n",
       "2  229268.56649802497    450.94355481245  4.1091904916218756   \n",
       "3                 0.0                0.0                 0.0   \n",
       "4               996.0               99.0           93.074235   \n",
       "\n",
       "          duration_30  \n",
       "0                6219  \n",
       "1  0.2630648014150185  \n",
       "2  0.4403327028216004  \n",
       "3                   0  \n",
       "4                   1  \n",
       "\n",
       "[5 rows x 24 columns]"
      ]
     },
     "execution_count": 57,
     "metadata": {},
     "output_type": "execute_result"
    }
   ],
   "source": [
    "# check the statistical summury for all variables\n",
    "final_df.describe().toPandas()"
   ]
  },
  {
   "cell_type": "code",
   "execution_count": 25,
   "id": "fcd87c9c",
   "metadata": {
    "scrolled": false
   },
   "outputs": [
    {
     "name": "stdout",
     "output_type": "stream",
     "text": [
      "+-----+-----+\n",
      "|label|count|\n",
      "+-----+-----+\n",
      "|    0|  783|\n",
      "|    1| 5436|\n",
      "+-----+-----+\n",
      "\n"
     ]
    }
   ],
   "source": [
    "# check label :\n",
    "final_df.groupBy('label').count().show()\n",
    "# the data is unbalanced, we need to add weight to each label later"
   ]
  },
  {
   "cell_type": "code",
   "execution_count": 62,
   "id": "586beed3",
   "metadata": {
    "scrolled": true
   },
   "outputs": [
    {
     "data": {
      "text/plain": [
       "[('id', 'string'),\n",
       " ('pos_sentiment_osm_sum', 'string'),\n",
       " ('neg_sentiment_osm_sum', 'string'),\n",
       " ('neg_sentiment_esm_sum', 'string'),\n",
       " ('pos_sentiment_esm_sum', 'string'),\n",
       " ('rt_avg_osm', 'string'),\n",
       " ('rt_avg_esm', 'string'),\n",
       " ('uf_avg_osm', 'string'),\n",
       " ('uf_avg_esm', 'string'),\n",
       " ('ufr_avg_osm', 'string'),\n",
       " ('ufr_avg_esm', 'string'),\n",
       " ('ufav_avg_osm', 'string'),\n",
       " ('ufav_avg_esm', 'string'),\n",
       " ('us_avg_osm', 'string'),\n",
       " ('us_avg_esm', 'string'),\n",
       " ('Tweet_media_type_photo_sum', 'string'),\n",
       " ('label', 'string'),\n",
       " ('goal', 'string'),\n",
       " ('Category_project', 'string'),\n",
       " ('pledged', 'string'),\n",
       " ('backers_count', 'string'),\n",
       " ('percentage_pledged', 'string'),\n",
       " ('duration_30', 'string')]"
      ]
     },
     "execution_count": 62,
     "metadata": {},
     "output_type": "execute_result"
    }
   ],
   "source": [
    "final_df.dtypes"
   ]
  },
  {
   "cell_type": "code",
   "execution_count": null,
   "id": "9b7f492a",
   "metadata": {},
   "outputs": [],
   "source": [
    "# we need to convert those type to numerical:\n",
    "final_df.withColumns\n"
   ]
  },
  {
   "cell_type": "code",
   "execution_count": 68,
   "id": "57fe0b6e",
   "metadata": {},
   "outputs": [
    {
     "data": {
      "text/html": [
       "<div>\n",
       "<style scoped>\n",
       "    .dataframe tbody tr th:only-of-type {\n",
       "        vertical-align: middle;\n",
       "    }\n",
       "\n",
       "    .dataframe tbody tr th {\n",
       "        vertical-align: top;\n",
       "    }\n",
       "\n",
       "    .dataframe thead th {\n",
       "        text-align: right;\n",
       "    }\n",
       "</style>\n",
       "<table border=\"1\" class=\"dataframe\">\n",
       "  <thead>\n",
       "    <tr style=\"text-align: right;\">\n",
       "      <th></th>\n",
       "      <th>id</th>\n",
       "      <th>pos_sentiment_osm_sum</th>\n",
       "      <th>neg_sentiment_osm_sum</th>\n",
       "      <th>neg_sentiment_esm_sum</th>\n",
       "      <th>pos_sentiment_esm_sum</th>\n",
       "      <th>rt_avg_osm</th>\n",
       "      <th>rt_avg_esm</th>\n",
       "      <th>uf_avg_osm</th>\n",
       "      <th>uf_avg_esm</th>\n",
       "      <th>ufr_avg_osm</th>\n",
       "      <th>...</th>\n",
       "      <th>us_avg_osm</th>\n",
       "      <th>us_avg_esm</th>\n",
       "      <th>Tweet_media_type_photo_sum</th>\n",
       "      <th>label</th>\n",
       "      <th>goal</th>\n",
       "      <th>Category_project</th>\n",
       "      <th>pledged</th>\n",
       "      <th>backers_count</th>\n",
       "      <th>percentage_pledged</th>\n",
       "      <th>duration_30</th>\n",
       "    </tr>\n",
       "  </thead>\n",
       "  <tbody>\n",
       "    <tr>\n",
       "      <th>0</th>\n",
       "      <td>1528387948</td>\n",
       "      <td>2.4475409836065576</td>\n",
       "      <td>0.6032786885245902</td>\n",
       "      <td>0.0</td>\n",
       "      <td>1.0</td>\n",
       "      <td>5.526197585587195</td>\n",
       "      <td>0.0</td>\n",
       "      <td>3563.0943577128814</td>\n",
       "      <td>412.0</td>\n",
       "      <td>982.1068795122508</td>\n",
       "      <td>...</td>\n",
       "      <td>8854.187024180192</td>\n",
       "      <td>823.0</td>\n",
       "      <td>1.0</td>\n",
       "      <td>1</td>\n",
       "      <td>8000.0</td>\n",
       "      <td>Comics</td>\n",
       "      <td>5515.29</td>\n",
       "      <td>74.0</td>\n",
       "      <td>0.68941125</td>\n",
       "      <td>0</td>\n",
       "    </tr>\n",
       "    <tr>\n",
       "      <th>1</th>\n",
       "      <td>2040864868</td>\n",
       "      <td>2.4475409836065576</td>\n",
       "      <td>0.6032786885245902</td>\n",
       "      <td>0.0</td>\n",
       "      <td>2.0</td>\n",
       "      <td>5.526197585587195</td>\n",
       "      <td>0.5</td>\n",
       "      <td>3563.0943577128814</td>\n",
       "      <td>1069.0</td>\n",
       "      <td>982.1068795122508</td>\n",
       "      <td>...</td>\n",
       "      <td>8854.187024180192</td>\n",
       "      <td>18111.0</td>\n",
       "      <td>0.0</td>\n",
       "      <td>1</td>\n",
       "      <td>38500.0</td>\n",
       "      <td>Games</td>\n",
       "      <td>4933.5</td>\n",
       "      <td>179.0</td>\n",
       "      <td>0.12814285714285714</td>\n",
       "      <td>1</td>\n",
       "    </tr>\n",
       "    <tr>\n",
       "      <th>2</th>\n",
       "      <td>1930851456</td>\n",
       "      <td>0.0</td>\n",
       "      <td>0.0</td>\n",
       "      <td>0.7494669509594882</td>\n",
       "      <td>2.4520255863539444</td>\n",
       "      <td>2.0</td>\n",
       "      <td>1.432957127002231</td>\n",
       "      <td>8.0</td>\n",
       "      <td>5754.908267090226</td>\n",
       "      <td>8.0</td>\n",
       "      <td>...</td>\n",
       "      <td>4.0</td>\n",
       "      <td>27513.677452778888</td>\n",
       "      <td>0.0</td>\n",
       "      <td>1</td>\n",
       "      <td>1800.0</td>\n",
       "      <td>Missing</td>\n",
       "      <td>58070.82196511628</td>\n",
       "      <td>270.35</td>\n",
       "      <td>0.0</td>\n",
       "      <td>0</td>\n",
       "    </tr>\n",
       "    <tr>\n",
       "      <th>3</th>\n",
       "      <td>55331564</td>\n",
       "      <td>2.4475409836065576</td>\n",
       "      <td>0.6032786885245902</td>\n",
       "      <td>0.0</td>\n",
       "      <td>1.0</td>\n",
       "      <td>5.526197585587195</td>\n",
       "      <td>0.0</td>\n",
       "      <td>3563.0943577128814</td>\n",
       "      <td>25807.5</td>\n",
       "      <td>982.1068795122508</td>\n",
       "      <td>...</td>\n",
       "      <td>8854.187024180192</td>\n",
       "      <td>17716.0</td>\n",
       "      <td>0.0</td>\n",
       "      <td>1</td>\n",
       "      <td>2500.0</td>\n",
       "      <td>Missing</td>\n",
       "      <td>58070.82196511628</td>\n",
       "      <td>270.35</td>\n",
       "      <td>0.0</td>\n",
       "      <td>0</td>\n",
       "    </tr>\n",
       "    <tr>\n",
       "      <th>4</th>\n",
       "      <td>770339794</td>\n",
       "      <td>2.4475409836065576</td>\n",
       "      <td>0.6032786885245902</td>\n",
       "      <td>0.0</td>\n",
       "      <td>0.0</td>\n",
       "      <td>5.526197585587195</td>\n",
       "      <td>0.0</td>\n",
       "      <td>3563.0943577128814</td>\n",
       "      <td>1.0</td>\n",
       "      <td>982.1068795122508</td>\n",
       "      <td>...</td>\n",
       "      <td>8854.187024180192</td>\n",
       "      <td>66.0</td>\n",
       "      <td>0.0</td>\n",
       "      <td>0</td>\n",
       "      <td>30000.0</td>\n",
       "      <td>Food</td>\n",
       "      <td>1.0</td>\n",
       "      <td>1.0</td>\n",
       "      <td>3.3333333333333335e-05</td>\n",
       "      <td>0</td>\n",
       "    </tr>\n",
       "  </tbody>\n",
       "</table>\n",
       "<p>5 rows × 23 columns</p>\n",
       "</div>"
      ],
      "text/plain": [
       "           id pos_sentiment_osm_sum neg_sentiment_osm_sum  \\\n",
       "0  1528387948    2.4475409836065576    0.6032786885245902   \n",
       "1  2040864868    2.4475409836065576    0.6032786885245902   \n",
       "2  1930851456                   0.0                   0.0   \n",
       "3    55331564    2.4475409836065576    0.6032786885245902   \n",
       "4   770339794    2.4475409836065576    0.6032786885245902   \n",
       "\n",
       "  neg_sentiment_esm_sum pos_sentiment_esm_sum         rt_avg_osm  \\\n",
       "0                   0.0                   1.0  5.526197585587195   \n",
       "1                   0.0                   2.0  5.526197585587195   \n",
       "2    0.7494669509594882    2.4520255863539444                2.0   \n",
       "3                   0.0                   1.0  5.526197585587195   \n",
       "4                   0.0                   0.0  5.526197585587195   \n",
       "\n",
       "          rt_avg_esm          uf_avg_osm         uf_avg_esm  \\\n",
       "0                0.0  3563.0943577128814              412.0   \n",
       "1                0.5  3563.0943577128814             1069.0   \n",
       "2  1.432957127002231                 8.0  5754.908267090226   \n",
       "3                0.0  3563.0943577128814            25807.5   \n",
       "4                0.0  3563.0943577128814                1.0   \n",
       "\n",
       "         ufr_avg_osm  ...         us_avg_osm          us_avg_esm  \\\n",
       "0  982.1068795122508  ...  8854.187024180192               823.0   \n",
       "1  982.1068795122508  ...  8854.187024180192             18111.0   \n",
       "2                8.0  ...                4.0  27513.677452778888   \n",
       "3  982.1068795122508  ...  8854.187024180192             17716.0   \n",
       "4  982.1068795122508  ...  8854.187024180192                66.0   \n",
       "\n",
       "  Tweet_media_type_photo_sum label     goal Category_project  \\\n",
       "0                        1.0     1   8000.0           Comics   \n",
       "1                        0.0     1  38500.0            Games   \n",
       "2                        0.0     1   1800.0          Missing   \n",
       "3                        0.0     1   2500.0          Missing   \n",
       "4                        0.0     0  30000.0             Food   \n",
       "\n",
       "             pledged backers_count      percentage_pledged duration_30  \n",
       "0            5515.29          74.0              0.68941125           0  \n",
       "1             4933.5         179.0     0.12814285714285714           1  \n",
       "2  58070.82196511628        270.35                     0.0           0  \n",
       "3  58070.82196511628        270.35                     0.0           0  \n",
       "4                1.0           1.0  3.3333333333333335e-05           0  \n",
       "\n",
       "[5 rows x 23 columns]"
      ]
     },
     "execution_count": 68,
     "metadata": {},
     "output_type": "execute_result"
    }
   ],
   "source": [
    "final_df.limit(5).toPandas()"
   ]
  },
  {
   "cell_type": "code",
   "execution_count": 7,
   "id": "b4b4a32b",
   "metadata": {},
   "outputs": [
    {
     "name": "stdout",
     "output_type": "stream",
     "text": [
      "[('id', 'double'), ('pos_sentiment_osm_sum', 'double'), ('neg_sentiment_osm_sum', 'double'), ('neg_sentiment_esm_sum', 'double'), ('pos_sentiment_esm_sum', 'double'), ('rt_avg_osm', 'double'), ('rt_avg_esm', 'double'), ('uf_avg_osm', 'double'), ('uf_avg_esm', 'double'), ('ufr_avg_osm', 'double'), ('ufr_avg_esm', 'double'), ('ufav_avg_osm', 'double'), ('ufav_avg_esm', 'double'), ('us_avg_osm', 'double'), ('us_avg_esm', 'double'), ('Tweet_media_type_photo_sum', 'double'), ('label', 'int'), ('goal', 'double'), ('Category_project', 'string'), ('pledged', 'double'), ('backers_count', 'double'), ('percentage_pledged', 'double'), ('duration_30', 'int')]\n"
     ]
    }
   ],
   "source": [
    "for col in final_df.columns:\n",
    "    if col=='label' or col=='duration_30':\n",
    "        final_df=final_df.withColumn(col,F.col(col).cast('Integer'))\n",
    "    elif col=='Category_project':\n",
    "        final_df=final_df.withColumn(col,F.col(col).cast('String'))\n",
    "    else:\n",
    "        final_df=final_df.withColumn(col,F.col(col).cast(DoubleType()))\n",
    "                \n",
    "print(final_df.dtypes)"
   ]
  },
  {
   "cell_type": "markdown",
   "id": "3e81bed3",
   "metadata": {},
   "source": [
    "# 1. Feature engineering\n",
    "\n",
    "\n",
    "1, spilt data into train & val & test ( 0.6 : 0.2 : 0.2)  \n",
    "\n",
    "2, handle unbalanced data : add weight to two classes       \n",
    "\n",
    "3, for some numerical variables: standard scaler (except duration )"
   ]
  },
  {
   "cell_type": "code",
   "execution_count": 8,
   "id": "1ab15c5b",
   "metadata": {},
   "outputs": [],
   "source": [
    "# split data into train & test ( 0.6 : 0.4) \n",
    "train, val, test = final_df.drop('id').randomSplit([0.6, 0.2, 0.2])"
   ]
  },
  {
   "cell_type": "code",
   "execution_count": 92,
   "id": "95939bcd",
   "metadata": {
    "scrolled": true
   },
   "outputs": [
    {
     "data": {
      "text/html": [
       "<div>\n",
       "<style scoped>\n",
       "    .dataframe tbody tr th:only-of-type {\n",
       "        vertical-align: middle;\n",
       "    }\n",
       "\n",
       "    .dataframe tbody tr th {\n",
       "        vertical-align: top;\n",
       "    }\n",
       "\n",
       "    .dataframe thead th {\n",
       "        text-align: right;\n",
       "    }\n",
       "</style>\n",
       "<table border=\"1\" class=\"dataframe\">\n",
       "  <thead>\n",
       "    <tr style=\"text-align: right;\">\n",
       "      <th></th>\n",
       "      <th>pos_sentiment_osm_sum</th>\n",
       "      <th>neg_sentiment_osm_sum</th>\n",
       "      <th>neg_sentiment_esm_sum</th>\n",
       "      <th>pos_sentiment_esm_sum</th>\n",
       "      <th>rt_avg_osm</th>\n",
       "      <th>rt_avg_esm</th>\n",
       "      <th>uf_avg_osm</th>\n",
       "      <th>uf_avg_esm</th>\n",
       "      <th>ufr_avg_osm</th>\n",
       "      <th>ufr_avg_esm</th>\n",
       "      <th>...</th>\n",
       "      <th>us_avg_osm</th>\n",
       "      <th>us_avg_esm</th>\n",
       "      <th>Tweet_media_type_photo_sum</th>\n",
       "      <th>label</th>\n",
       "      <th>goal</th>\n",
       "      <th>Category_project</th>\n",
       "      <th>pledged</th>\n",
       "      <th>backers_count</th>\n",
       "      <th>percentage_pledged</th>\n",
       "      <th>duration_30</th>\n",
       "    </tr>\n",
       "  </thead>\n",
       "  <tbody>\n",
       "    <tr>\n",
       "      <th>0</th>\n",
       "      <td>0.0</td>\n",
       "      <td>0.0</td>\n",
       "      <td>0.0</td>\n",
       "      <td>0.0</td>\n",
       "      <td>0.0</td>\n",
       "      <td>0.0</td>\n",
       "      <td>155.0</td>\n",
       "      <td>1719.0</td>\n",
       "      <td>120.0</td>\n",
       "      <td>198.0</td>\n",
       "      <td>...</td>\n",
       "      <td>106.0</td>\n",
       "      <td>3937.0</td>\n",
       "      <td>0.0</td>\n",
       "      <td>1</td>\n",
       "      <td>67755.0</td>\n",
       "      <td>Missing</td>\n",
       "      <td>58070.821965</td>\n",
       "      <td>270.35</td>\n",
       "      <td>0.0000</td>\n",
       "      <td>1</td>\n",
       "    </tr>\n",
       "    <tr>\n",
       "      <th>1</th>\n",
       "      <td>0.0</td>\n",
       "      <td>0.0</td>\n",
       "      <td>0.0</td>\n",
       "      <td>0.0</td>\n",
       "      <td>0.0</td>\n",
       "      <td>0.0</td>\n",
       "      <td>255.0</td>\n",
       "      <td>1116.0</td>\n",
       "      <td>388.0</td>\n",
       "      <td>251.0</td>\n",
       "      <td>...</td>\n",
       "      <td>751.0</td>\n",
       "      <td>30219.0</td>\n",
       "      <td>0.0</td>\n",
       "      <td>0</td>\n",
       "      <td>20000.0</td>\n",
       "      <td>Missing</td>\n",
       "      <td>58070.821965</td>\n",
       "      <td>270.35</td>\n",
       "      <td>0.0000</td>\n",
       "      <td>0</td>\n",
       "    </tr>\n",
       "    <tr>\n",
       "      <th>2</th>\n",
       "      <td>0.0</td>\n",
       "      <td>0.0</td>\n",
       "      <td>0.0</td>\n",
       "      <td>0.0</td>\n",
       "      <td>0.0</td>\n",
       "      <td>0.0</td>\n",
       "      <td>406.0</td>\n",
       "      <td>284.0</td>\n",
       "      <td>121.0</td>\n",
       "      <td>1820.0</td>\n",
       "      <td>...</td>\n",
       "      <td>3320.0</td>\n",
       "      <td>31534.0</td>\n",
       "      <td>0.0</td>\n",
       "      <td>1</td>\n",
       "      <td>300.0</td>\n",
       "      <td>Missing</td>\n",
       "      <td>58070.821965</td>\n",
       "      <td>270.35</td>\n",
       "      <td>0.0000</td>\n",
       "      <td>0</td>\n",
       "    </tr>\n",
       "    <tr>\n",
       "      <th>3</th>\n",
       "      <td>0.0</td>\n",
       "      <td>0.0</td>\n",
       "      <td>0.0</td>\n",
       "      <td>0.0</td>\n",
       "      <td>0.0</td>\n",
       "      <td>0.0</td>\n",
       "      <td>3399.0</td>\n",
       "      <td>1756.5</td>\n",
       "      <td>38.0</td>\n",
       "      <td>2539.5</td>\n",
       "      <td>...</td>\n",
       "      <td>2625.0</td>\n",
       "      <td>15536.5</td>\n",
       "      <td>0.0</td>\n",
       "      <td>1</td>\n",
       "      <td>13000.0</td>\n",
       "      <td>Missing</td>\n",
       "      <td>58070.821965</td>\n",
       "      <td>270.35</td>\n",
       "      <td>0.0000</td>\n",
       "      <td>0</td>\n",
       "    </tr>\n",
       "    <tr>\n",
       "      <th>4</th>\n",
       "      <td>0.0</td>\n",
       "      <td>0.0</td>\n",
       "      <td>0.0</td>\n",
       "      <td>0.0</td>\n",
       "      <td>0.0</td>\n",
       "      <td>1.5</td>\n",
       "      <td>24.0</td>\n",
       "      <td>939.5</td>\n",
       "      <td>44.0</td>\n",
       "      <td>1050.5</td>\n",
       "      <td>...</td>\n",
       "      <td>5.0</td>\n",
       "      <td>10210.0</td>\n",
       "      <td>0.0</td>\n",
       "      <td>1</td>\n",
       "      <td>10000.0</td>\n",
       "      <td>Journalism</td>\n",
       "      <td>1446.000000</td>\n",
       "      <td>23.00</td>\n",
       "      <td>0.1446</td>\n",
       "      <td>0</td>\n",
       "    </tr>\n",
       "  </tbody>\n",
       "</table>\n",
       "<p>5 rows × 22 columns</p>\n",
       "</div>"
      ],
      "text/plain": [
       "   pos_sentiment_osm_sum  neg_sentiment_osm_sum  neg_sentiment_esm_sum  \\\n",
       "0                    0.0                    0.0                    0.0   \n",
       "1                    0.0                    0.0                    0.0   \n",
       "2                    0.0                    0.0                    0.0   \n",
       "3                    0.0                    0.0                    0.0   \n",
       "4                    0.0                    0.0                    0.0   \n",
       "\n",
       "   pos_sentiment_esm_sum  rt_avg_osm  rt_avg_esm  uf_avg_osm  uf_avg_esm  \\\n",
       "0                    0.0         0.0         0.0       155.0      1719.0   \n",
       "1                    0.0         0.0         0.0       255.0      1116.0   \n",
       "2                    0.0         0.0         0.0       406.0       284.0   \n",
       "3                    0.0         0.0         0.0      3399.0      1756.5   \n",
       "4                    0.0         0.0         1.5        24.0       939.5   \n",
       "\n",
       "   ufr_avg_osm  ufr_avg_esm  ...  us_avg_osm  us_avg_esm  \\\n",
       "0        120.0        198.0  ...       106.0      3937.0   \n",
       "1        388.0        251.0  ...       751.0     30219.0   \n",
       "2        121.0       1820.0  ...      3320.0     31534.0   \n",
       "3         38.0       2539.5  ...      2625.0     15536.5   \n",
       "4         44.0       1050.5  ...         5.0     10210.0   \n",
       "\n",
       "   Tweet_media_type_photo_sum  label     goal  Category_project       pledged  \\\n",
       "0                         0.0      1  67755.0           Missing  58070.821965   \n",
       "1                         0.0      0  20000.0           Missing  58070.821965   \n",
       "2                         0.0      1    300.0           Missing  58070.821965   \n",
       "3                         0.0      1  13000.0           Missing  58070.821965   \n",
       "4                         0.0      1  10000.0        Journalism   1446.000000   \n",
       "\n",
       "  backers_count  percentage_pledged  duration_30  \n",
       "0        270.35              0.0000            1  \n",
       "1        270.35              0.0000            0  \n",
       "2        270.35              0.0000            0  \n",
       "3        270.35              0.0000            0  \n",
       "4         23.00              0.1446            0  \n",
       "\n",
       "[5 rows x 22 columns]"
      ]
     },
     "execution_count": 92,
     "metadata": {},
     "output_type": "execute_result"
    }
   ],
   "source": [
    "train.limit(5).toPandas()"
   ]
  },
  {
   "cell_type": "code",
   "execution_count": 9,
   "id": "1834b2a3",
   "metadata": {
    "scrolled": true
   },
   "outputs": [
    {
     "name": "stderr",
     "output_type": "stream",
     "text": [
      "                                                                                \r"
     ]
    },
    {
     "name": "stdout",
     "output_type": "stream",
     "text": [
      "+-----+-----+-------------------+\n",
      "|label|count|         percentage|\n",
      "+-----+-----+-------------------+\n",
      "|    1| 3289| 0.8728768577494692|\n",
      "|    0|  479|0.12712314225053079|\n",
      "+-----+-----+-------------------+\n",
      "\n"
     ]
    }
   ],
   "source": [
    "# inspect proportion of label\n",
    "train.groupBy(\"label\").count().withColumn(\"percentage\", F.col(\"count\") / train.count()).show()"
   ]
  },
  {
   "cell_type": "code",
   "execution_count": 10,
   "id": "0126c977",
   "metadata": {},
   "outputs": [],
   "source": [
    "# data imbalance: \n",
    "weight_1 = (468 + 3242) / (3242 * 2)\n",
    "weight_0 = (468 + 3242) / (468 * 2)"
   ]
  },
  {
   "cell_type": "code",
   "execution_count": 10,
   "id": "cce5c50b",
   "metadata": {},
   "outputs": [
    {
     "name": "stdout",
     "output_type": "stream",
     "text": [
      "0.5721776681061074\n",
      "3.963675213675214\n"
     ]
    }
   ],
   "source": [
    "# check\n",
    "print(weight_1)\n",
    "print(weight_0)"
   ]
  },
  {
   "cell_type": "code",
   "execution_count": 11,
   "id": "c544f646",
   "metadata": {},
   "outputs": [],
   "source": [
    "# add class weights column\n",
    "train = train.withColumn(\"weight\", F.when(F.col(\"label\") == 1, weight_1).otherwise(weight_0))\n",
    "val = val.withColumn(\"weight\", F.when(F.col(\"label\") == 1, weight_1).otherwise(weight_0))"
   ]
  },
  {
   "cell_type": "markdown",
   "id": "11573f05",
   "metadata": {},
   "source": [
    "## numerical variables:\n",
    "\n",
    "assemble numerical columns and them scaler "
   ]
  },
  {
   "cell_type": "code",
   "execution_count": 12,
   "id": "5467b701",
   "metadata": {},
   "outputs": [],
   "source": [
    "# required package\n",
    "from pyspark.ml.feature import StandardScaler, VectorAssembler"
   ]
  },
  {
   "cell_type": "code",
   "execution_count": 13,
   "id": "914da0ba",
   "metadata": {
    "scrolled": true
   },
   "outputs": [],
   "source": [
    "# get numerical variables:\n",
    "all_num_col =[item[0] for item in train.dtypes if item[1]!='string']\n",
    "all_num_col.remove('duration_30')\n",
    "all_num_col.remove('label')\n",
    "all_num_col.remove('weight')"
   ]
  },
  {
   "cell_type": "code",
   "execution_count": 131,
   "id": "d1354621",
   "metadata": {
    "scrolled": false
   },
   "outputs": [
    {
     "data": {
      "text/plain": [
       "['pos_sentiment_osm_sum',\n",
       " 'neg_sentiment_osm_sum',\n",
       " 'neg_sentiment_esm_sum',\n",
       " 'pos_sentiment_esm_sum',\n",
       " 'rt_avg_osm',\n",
       " 'rt_avg_esm',\n",
       " 'uf_avg_osm',\n",
       " 'uf_avg_esm',\n",
       " 'ufr_avg_osm',\n",
       " 'ufr_avg_esm',\n",
       " 'ufav_avg_osm',\n",
       " 'ufav_avg_esm',\n",
       " 'us_avg_osm',\n",
       " 'us_avg_esm',\n",
       " 'Tweet_media_type_photo_sum',\n",
       " 'goal',\n",
       " 'pledged',\n",
       " 'backers_count',\n",
       " 'percentage_pledged']"
      ]
     },
     "execution_count": 131,
     "metadata": {},
     "output_type": "execute_result"
    }
   ],
   "source": [
    "all_num_col "
   ]
  },
  {
   "cell_type": "code",
   "execution_count": 14,
   "id": "ec1cb22e",
   "metadata": {},
   "outputs": [],
   "source": [
    "# get ks_numerical columns and twitter_numerical columns seperately\n",
    "\n",
    "ks_num_col = ['goal','pledged','backers_count','percentage_pledged']\n",
    "twitter_num_col = all_num_col[:-4]"
   ]
  },
  {
   "cell_type": "code",
   "execution_count": 15,
   "id": "cc2a4bf3",
   "metadata": {},
   "outputs": [],
   "source": [
    "# VectorAssembler :\n",
    "VAnum_all = VectorAssembler(inputCols=all_num_col,outputCol='numFeatures')\n",
    "VAnum_ks = VectorAssembler(inputCols=ks_num_col,outputCol='numFeatures')\n",
    "VAnum_twitter = VectorAssembler(inputCols=twitter_num_col,outputCol='numFeatures')\n",
    "\n",
    "### Intialize scaler for numeric variables\n",
    "\n",
    "SS = StandardScaler(inputCol = 'numFeatures', outputCol = 'scaledNumFeatures', withStd = True, withMean = False)"
   ]
  },
  {
   "cell_type": "markdown",
   "id": "85ccdda8",
   "metadata": {},
   "source": [
    "### Put categorical features to index\n"
   ]
  },
  {
   "cell_type": "code",
   "execution_count": 16,
   "id": "fe2ea6c7",
   "metadata": {},
   "outputs": [],
   "source": [
    "# define vector assembler for categorical features add imputed ones and indexed ones\n",
    "catColumns = ['Category_project'] #'staff_pick',\n",
    "\n",
    "catColumns_idx = [var + \"_idx\" for var in catColumns]\n",
    "\n",
    "# define vector indexer\n",
    "VI = StringIndexer(inputCols = catColumns, outputCols = catColumns_idx)\n",
    "\n",
    "# assemble categorical features\n",
    "VAcat = VectorAssembler(inputCols = catColumns_idx, outputCol = 'cat_features_idx')"
   ]
  },
  {
   "cell_type": "markdown",
   "id": "c2ee1a9a",
   "metadata": {},
   "source": [
    "## combien all features "
   ]
  },
  {
   "cell_type": "code",
   "execution_count": 17,
   "id": "e92898ac",
   "metadata": {},
   "outputs": [],
   "source": [
    "# Vector assembler relevant columns into one \n",
    "VA_all_features = VectorAssembler(inputCols = ['scaledNumFeatures', 'cat_features_idx','duration_30'], outputCol = 'features') \n",
    "# for twitter variables: no need to assemble \n",
    "VA_all_twitter = VectorAssembler(inputCols = ['scaledNumFeatures'], outputCol = 'features') \n",
    "VA_all_ks =  VectorAssembler(inputCols = ['scaledNumFeatures', 'cat_features_idx','duration_30'], outputCol = 'features') \n"
   ]
  },
  {
   "cell_type": "markdown",
   "id": "b5520a0b",
   "metadata": {},
   "source": [
    "## Feature selection \n",
    "\n",
    "let's try to get the top 12 features according to a chi-squared test ( actually we already examined the importance of variables in previous regression analysis)\n",
    "\n",
    "however we could still make 4 set of variables: \n",
    "\n",
    "- one with all variables( twitter + ks )\n",
    "- one with top 12 variables \n",
    "- one with only twitter variables\n",
    "- one with only ks variables\n",
    "\n",
    "\n",
    "\n",
    "ChiSqSelector stands for Chi-Squared feature selection. It operates on labeled data with categorical features. ChiSqSelector uses the Chi-Squared test of independence to decide which features to choose. It supports five selection methods: numTopFeatures, percentile, fpr, fdr, fwe:\n",
    "\n",
    "numTopFeatures chooses a fixed number of top features according to a chi-squared test. This is akin to yielding the features with the most predictive power.\n",
    "percentile is similar to numTopFeatures but chooses a fraction of all features instead of a fixed number.\n",
    "fpr chooses all features whose p-values are below a threshold, thus controlling the false positive rate of selection.\n",
    "fdr uses the Benjamini-Hochberg procedure to choose all features whose false discovery rate is below a threshold.\n",
    "fwe chooses all features whose p-values are below a threshold. The threshold is scaled by 1/numFeatures, thus controlling the family-wise error rate of selection. By default, the selection method is numTopFeatures, with the default number of top features set to 50. The user can choose a selection method using setSelectorType."
   ]
  },
  {
   "cell_type": "code",
   "execution_count": 18,
   "id": "18914a68",
   "metadata": {},
   "outputs": [],
   "source": [
    "from pyspark.ml.feature import ChiSqSelector\n",
    "from pyspark.ml.linalg import Vectors"
   ]
  },
  {
   "cell_type": "code",
   "execution_count": 19,
   "id": "734cb84e",
   "metadata": {},
   "outputs": [],
   "source": [
    "selector = ChiSqSelector(numTopFeatures=12, featuresCol=\"features\",\n",
    "                         outputCol=\"topFeatures\", labelCol=\"label\")"
   ]
  },
  {
   "cell_type": "code",
   "execution_count": null,
   "id": "7b178561",
   "metadata": {},
   "outputs": [],
   "source": [
    "# define pipeline stages\n",
    "stages_selected = [VAnum,SS,VI,VAcat,VA_all_features,selector]"
   ]
  },
  {
   "cell_type": "code",
   "execution_count": null,
   "id": "59b935f5",
   "metadata": {},
   "outputs": [],
   "source": [
    "# check the top 12 variables selected \n",
    "pipeline_sector = Pipeline(stages= stages_selected).fit(train)\n",
    "result = pipeline_sector.transform(train)"
   ]
  },
  {
   "cell_type": "code",
   "execution_count": 116,
   "id": "e169b146",
   "metadata": {
    "scrolled": true
   },
   "outputs": [
    {
     "name": "stdout",
     "output_type": "stream",
     "text": [
      "ChiSqSelector output with top 12 features selected\n"
     ]
    },
    {
     "data": {
      "text/html": [
       "<div>\n",
       "<style scoped>\n",
       "    .dataframe tbody tr th:only-of-type {\n",
       "        vertical-align: middle;\n",
       "    }\n",
       "\n",
       "    .dataframe tbody tr th {\n",
       "        vertical-align: top;\n",
       "    }\n",
       "\n",
       "    .dataframe thead th {\n",
       "        text-align: right;\n",
       "    }\n",
       "</style>\n",
       "<table border=\"1\" class=\"dataframe\">\n",
       "  <thead>\n",
       "    <tr style=\"text-align: right;\">\n",
       "      <th></th>\n",
       "      <th>pos_sentiment_osm_sum</th>\n",
       "      <th>neg_sentiment_osm_sum</th>\n",
       "      <th>neg_sentiment_esm_sum</th>\n",
       "      <th>pos_sentiment_esm_sum</th>\n",
       "      <th>rt_avg_osm</th>\n",
       "      <th>rt_avg_esm</th>\n",
       "      <th>uf_avg_osm</th>\n",
       "      <th>uf_avg_esm</th>\n",
       "      <th>ufr_avg_osm</th>\n",
       "      <th>ufr_avg_esm</th>\n",
       "      <th>...</th>\n",
       "      <th>backers_count</th>\n",
       "      <th>percentage_pledged</th>\n",
       "      <th>duration_30</th>\n",
       "      <th>weight</th>\n",
       "      <th>numFeatures</th>\n",
       "      <th>scaledNumFeatures</th>\n",
       "      <th>Category_project_idx</th>\n",
       "      <th>cat_features_idx</th>\n",
       "      <th>features</th>\n",
       "      <th>topFeatures</th>\n",
       "    </tr>\n",
       "  </thead>\n",
       "  <tbody>\n",
       "    <tr>\n",
       "      <th>0</th>\n",
       "      <td>0.0</td>\n",
       "      <td>0.0</td>\n",
       "      <td>0.0</td>\n",
       "      <td>0.0</td>\n",
       "      <td>0.0</td>\n",
       "      <td>0.0</td>\n",
       "      <td>155.0</td>\n",
       "      <td>1719.0</td>\n",
       "      <td>120.0</td>\n",
       "      <td>198.0</td>\n",
       "      <td>...</td>\n",
       "      <td>270.35</td>\n",
       "      <td>0.0000</td>\n",
       "      <td>1</td>\n",
       "      <td>0.572178</td>\n",
       "      <td>(0.0, 0.0, 0.0, 0.0, 0.0, 0.0, 155.0, 1719.0, ...</td>\n",
       "      <td>(0.0, 0.0, 0.0, 0.0, 0.0, 0.0, 0.0229453562115...</td>\n",
       "      <td>0.0</td>\n",
       "      <td>[0.0]</td>\n",
       "      <td>(0.0, 0.0, 0.0, 0.0, 0.0, 0.0, 0.0229453562115...</td>\n",
       "      <td>(0.0, 0.0, 0.0, 0.0, 0.02565110886748738, 0.0,...</td>\n",
       "    </tr>\n",
       "    <tr>\n",
       "      <th>1</th>\n",
       "      <td>0.0</td>\n",
       "      <td>0.0</td>\n",
       "      <td>0.0</td>\n",
       "      <td>0.0</td>\n",
       "      <td>0.0</td>\n",
       "      <td>0.0</td>\n",
       "      <td>255.0</td>\n",
       "      <td>1116.0</td>\n",
       "      <td>388.0</td>\n",
       "      <td>251.0</td>\n",
       "      <td>...</td>\n",
       "      <td>270.35</td>\n",
       "      <td>0.0000</td>\n",
       "      <td>0</td>\n",
       "      <td>3.963675</td>\n",
       "      <td>(0.0, 0.0, 0.0, 0.0, 0.0, 0.0, 255.0, 1116.0, ...</td>\n",
       "      <td>(0.0, 0.0, 0.0, 0.0, 0.0, 0.0, 0.0377488118318...</td>\n",
       "      <td>0.0</td>\n",
       "      <td>[0.0]</td>\n",
       "      <td>(0.0, 0.0, 0.0, 0.0, 0.0, 0.0, 0.0377488118318...</td>\n",
       "      <td>(0.0, 0.0, 0.0, 0.0, 0.032517314776461276, 0.0...</td>\n",
       "    </tr>\n",
       "    <tr>\n",
       "      <th>2</th>\n",
       "      <td>0.0</td>\n",
       "      <td>0.0</td>\n",
       "      <td>0.0</td>\n",
       "      <td>0.0</td>\n",
       "      <td>0.0</td>\n",
       "      <td>0.0</td>\n",
       "      <td>406.0</td>\n",
       "      <td>284.0</td>\n",
       "      <td>121.0</td>\n",
       "      <td>1820.0</td>\n",
       "      <td>...</td>\n",
       "      <td>270.35</td>\n",
       "      <td>0.0000</td>\n",
       "      <td>0</td>\n",
       "      <td>0.572178</td>\n",
       "      <td>(0.0, 0.0, 0.0, 0.0, 0.0, 0.0, 406.0, 284.0, 1...</td>\n",
       "      <td>(0.0, 0.0, 0.0, 0.0, 0.0, 0.0, 0.0601020298185...</td>\n",
       "      <td>0.0</td>\n",
       "      <td>[0.0]</td>\n",
       "      <td>(0.0, 0.0, 0.0, 0.0, 0.0, 0.0, 0.0601020298185...</td>\n",
       "      <td>(0.0, 0.0, 0.0, 0.0, 0.23578291989306582, 0.0,...</td>\n",
       "    </tr>\n",
       "    <tr>\n",
       "      <th>3</th>\n",
       "      <td>0.0</td>\n",
       "      <td>0.0</td>\n",
       "      <td>0.0</td>\n",
       "      <td>0.0</td>\n",
       "      <td>0.0</td>\n",
       "      <td>0.0</td>\n",
       "      <td>3399.0</td>\n",
       "      <td>1756.5</td>\n",
       "      <td>38.0</td>\n",
       "      <td>2539.5</td>\n",
       "      <td>...</td>\n",
       "      <td>270.35</td>\n",
       "      <td>0.0000</td>\n",
       "      <td>0</td>\n",
       "      <td>0.572178</td>\n",
       "      <td>(0.0, 0.0, 0.0, 0.0, 0.0, 0.0, 3399.0, 1756.5,...</td>\n",
       "      <td>(0.0, 0.0, 0.0, 0.0, 0.0, 0.0, 0.5031694565349...</td>\n",
       "      <td>0.0</td>\n",
       "      <td>[0.0]</td>\n",
       "      <td>(0.0, 0.0, 0.0, 0.0, 0.0, 0.0, 0.5031694565349...</td>\n",
       "      <td>(0.0, 0.0, 0.0, 0.0, 0.32899490388375857, 0.0,...</td>\n",
       "    </tr>\n",
       "    <tr>\n",
       "      <th>4</th>\n",
       "      <td>0.0</td>\n",
       "      <td>0.0</td>\n",
       "      <td>0.0</td>\n",
       "      <td>0.0</td>\n",
       "      <td>0.0</td>\n",
       "      <td>1.5</td>\n",
       "      <td>24.0</td>\n",
       "      <td>939.5</td>\n",
       "      <td>44.0</td>\n",
       "      <td>1050.5</td>\n",
       "      <td>...</td>\n",
       "      <td>23.00</td>\n",
       "      <td>0.1446</td>\n",
       "      <td>0</td>\n",
       "      <td>0.572178</td>\n",
       "      <td>[0.0, 0.0, 0.0, 0.0, 0.0, 1.5, 24.0, 939.5, 44...</td>\n",
       "      <td>[0.0, 0.0, 0.0, 0.0, 0.0, 0.13995038346241434,...</td>\n",
       "      <td>13.0</td>\n",
       "      <td>[13.0]</td>\n",
       "      <td>[0.0, 0.0, 0.0, 0.0, 0.0, 0.13995038346241434,...</td>\n",
       "      <td>[0.0, 0.0, 0.0, 0.0, 0.13609338315805805, 0.0,...</td>\n",
       "    </tr>\n",
       "  </tbody>\n",
       "</table>\n",
       "<p>5 rows × 29 columns</p>\n",
       "</div>"
      ],
      "text/plain": [
       "   pos_sentiment_osm_sum  neg_sentiment_osm_sum  neg_sentiment_esm_sum  \\\n",
       "0                    0.0                    0.0                    0.0   \n",
       "1                    0.0                    0.0                    0.0   \n",
       "2                    0.0                    0.0                    0.0   \n",
       "3                    0.0                    0.0                    0.0   \n",
       "4                    0.0                    0.0                    0.0   \n",
       "\n",
       "   pos_sentiment_esm_sum  rt_avg_osm  rt_avg_esm  uf_avg_osm  uf_avg_esm  \\\n",
       "0                    0.0         0.0         0.0       155.0      1719.0   \n",
       "1                    0.0         0.0         0.0       255.0      1116.0   \n",
       "2                    0.0         0.0         0.0       406.0       284.0   \n",
       "3                    0.0         0.0         0.0      3399.0      1756.5   \n",
       "4                    0.0         0.0         1.5        24.0       939.5   \n",
       "\n",
       "   ufr_avg_osm  ufr_avg_esm  ...  backers_count  percentage_pledged  \\\n",
       "0        120.0        198.0  ...         270.35              0.0000   \n",
       "1        388.0        251.0  ...         270.35              0.0000   \n",
       "2        121.0       1820.0  ...         270.35              0.0000   \n",
       "3         38.0       2539.5  ...         270.35              0.0000   \n",
       "4         44.0       1050.5  ...          23.00              0.1446   \n",
       "\n",
       "   duration_30    weight                                        numFeatures  \\\n",
       "0            1  0.572178  (0.0, 0.0, 0.0, 0.0, 0.0, 0.0, 155.0, 1719.0, ...   \n",
       "1            0  3.963675  (0.0, 0.0, 0.0, 0.0, 0.0, 0.0, 255.0, 1116.0, ...   \n",
       "2            0  0.572178  (0.0, 0.0, 0.0, 0.0, 0.0, 0.0, 406.0, 284.0, 1...   \n",
       "3            0  0.572178  (0.0, 0.0, 0.0, 0.0, 0.0, 0.0, 3399.0, 1756.5,...   \n",
       "4            0  0.572178  [0.0, 0.0, 0.0, 0.0, 0.0, 1.5, 24.0, 939.5, 44...   \n",
       "\n",
       "                                   scaledNumFeatures  Category_project_idx  \\\n",
       "0  (0.0, 0.0, 0.0, 0.0, 0.0, 0.0, 0.0229453562115...                   0.0   \n",
       "1  (0.0, 0.0, 0.0, 0.0, 0.0, 0.0, 0.0377488118318...                   0.0   \n",
       "2  (0.0, 0.0, 0.0, 0.0, 0.0, 0.0, 0.0601020298185...                   0.0   \n",
       "3  (0.0, 0.0, 0.0, 0.0, 0.0, 0.0, 0.5031694565349...                   0.0   \n",
       "4  [0.0, 0.0, 0.0, 0.0, 0.0, 0.13995038346241434,...                  13.0   \n",
       "\n",
       "  cat_features_idx                                           features  \\\n",
       "0            [0.0]  (0.0, 0.0, 0.0, 0.0, 0.0, 0.0, 0.0229453562115...   \n",
       "1            [0.0]  (0.0, 0.0, 0.0, 0.0, 0.0, 0.0, 0.0377488118318...   \n",
       "2            [0.0]  (0.0, 0.0, 0.0, 0.0, 0.0, 0.0, 0.0601020298185...   \n",
       "3            [0.0]  (0.0, 0.0, 0.0, 0.0, 0.0, 0.0, 0.5031694565349...   \n",
       "4           [13.0]  [0.0, 0.0, 0.0, 0.0, 0.0, 0.13995038346241434,...   \n",
       "\n",
       "                                         topFeatures  \n",
       "0  (0.0, 0.0, 0.0, 0.0, 0.02565110886748738, 0.0,...  \n",
       "1  (0.0, 0.0, 0.0, 0.0, 0.032517314776461276, 0.0...  \n",
       "2  (0.0, 0.0, 0.0, 0.0, 0.23578291989306582, 0.0,...  \n",
       "3  (0.0, 0.0, 0.0, 0.0, 0.32899490388375857, 0.0,...  \n",
       "4  [0.0, 0.0, 0.0, 0.0, 0.13609338315805805, 0.0,...  \n",
       "\n",
       "[5 rows x 29 columns]"
      ]
     },
     "execution_count": 116,
     "metadata": {},
     "output_type": "execute_result"
    }
   ],
   "source": [
    "print(\"ChiSqSelector output with top %d features selected\" % selector.getNumTopFeatures())\n",
    "result.limit(5).toPandas()"
   ]
  },
  {
   "cell_type": "markdown",
   "id": "d8ce8e81",
   "metadata": {},
   "source": [
    "## Combine stages"
   ]
  },
  {
   "cell_type": "code",
   "execution_count": 20,
   "id": "5dc27208",
   "metadata": {},
   "outputs": [],
   "source": [
    "stages_all_features = [VAnum_all,SS,VI,VAcat,VA_all_features]\n",
    "# stage_selected : stages with feature selection \n",
    "stages_twitter_features = [VAnum_twitter,SS,VA_all_twitter]\n",
    "stages_ks_features = [VAnum_ks,SS,VI,VAcat,VA_all_ks]"
   ]
  },
  {
   "cell_type": "markdown",
   "id": "49bfe5df",
   "metadata": {},
   "source": [
    "# Modeling"
   ]
  },
  {
   "cell_type": "code",
   "execution_count": 21,
   "id": "05fb36fc",
   "metadata": {},
   "outputs": [],
   "source": [
    "# import model\n",
    "from pyspark.ml.classification import LogisticRegression, RandomForestClassifier, GBTClassifier"
   ]
  },
  {
   "cell_type": "code",
   "execution_count": 22,
   "id": "69637090",
   "metadata": {},
   "outputs": [],
   "source": [
    "# define models : we will use random forest, logistic regression and XGboost\n",
    "RF = RandomForestClassifier(labelCol='label',featuresCol='features',weightCol='weight',numTrees = 500)\n",
    "LR = LogisticRegression(featuresCol=\"features\", labelCol=\"label\",weightCol='weight')\n"
   ]
  },
  {
   "cell_type": "markdown",
   "id": "105d498e",
   "metadata": {},
   "source": [
    "### Cross validation to tune the parameters of XGboost\n",
    "\n",
    "\n",
    "but It lower the running speed so we decided to delete this step, but the full code is below "
   ]
  },
  {
   "cell_type": "code",
   "execution_count": 23,
   "id": "e87657ec",
   "metadata": {},
   "outputs": [],
   "source": [
    "from pyspark.ml.tuning import CrossValidator, ParamGridBuilder, CrossValidatorModel"
   ]
  },
  {
   "cell_type": "code",
   "execution_count": 24,
   "id": "9edfcb64",
   "metadata": {},
   "outputs": [],
   "source": [
    "# parameter validation for XGboost \n",
    "XG = GBTClassifier(featuresCol=\"features\", labelCol=\"label\",weightCol='weight',maxDepth=5,maxIter=50)"
   ]
  },
  {
   "cell_type": "markdown",
   "id": "51cb6cea",
   "metadata": {},
   "source": [
    "paramGrid = ParamGridBuilder()\\\n",
    "            .addGrid(XG.maxDepth, [3,5]) \\\n",
    "            .addGrid(XG.maxIter, [10,50]) \\\n",
    "            .build()\n",
    "            \n",
    "            \n",
    "CV = CrossValidator(estimator=XG,estimatorParamMaps=paramGrid,\\\n",
    "                          evaluator=BinaryClassificationEvaluator(),\\\n",
    "                          numFolds=2)"
   ]
  },
  {
   "cell_type": "code",
   "execution_count": 25,
   "id": "5307c956",
   "metadata": {
    "scrolled": true
   },
   "outputs": [
    {
     "name": "stdout",
     "output_type": "stream",
     "text": [
      "22/09/05 14:05:11 WARN package: Truncated the string representation of a plan since it was too large. This behavior can be adjusted by setting 'spark.sql.debug.maxToStringFields'.\n"
     ]
    },
    {
     "name": "stderr",
     "output_type": "stream",
     "text": [
      "                                                                                \r"
     ]
    },
    {
     "name": "stdout",
     "output_type": "stream",
     "text": [
      "22/09/05 14:05:24 WARN DAGScheduler: Broadcasting large task binary with size 1174.2 KiB\n"
     ]
    },
    {
     "name": "stderr",
     "output_type": "stream",
     "text": [
      "                                                                                \r"
     ]
    },
    {
     "name": "stdout",
     "output_type": "stream",
     "text": [
      "22/09/05 14:05:26 WARN DAGScheduler: Broadcasting large task binary with size 2.0 MiB\n"
     ]
    },
    {
     "name": "stderr",
     "output_type": "stream",
     "text": [
      "                                                                                \r"
     ]
    },
    {
     "name": "stdout",
     "output_type": "stream",
     "text": [
      "22/09/05 14:05:36 WARN DAGScheduler: Broadcasting large task binary with size 1033.0 KiB\n"
     ]
    },
    {
     "name": "stderr",
     "output_type": "stream",
     "text": [
      "                                                                                \r"
     ]
    },
    {
     "name": "stdout",
     "output_type": "stream",
     "text": [
      "22/09/05 14:05:39 WARN DAGScheduler: Broadcasting large task binary with size 1786.1 KiB\n"
     ]
    },
    {
     "name": "stderr",
     "output_type": "stream",
     "text": [
      "                                                                                \r"
     ]
    },
    {
     "name": "stdout",
     "output_type": "stream",
     "text": [
      "22/09/05 14:05:47 WARN DAGScheduler: Broadcasting large task binary with size 1164.7 KiB\n"
     ]
    },
    {
     "name": "stderr",
     "output_type": "stream",
     "text": [
      "                                                                                \r"
     ]
    },
    {
     "name": "stdout",
     "output_type": "stream",
     "text": [
      "22/09/05 14:05:49 WARN DAGScheduler: Broadcasting large task binary with size 2.1 MiB\n"
     ]
    },
    {
     "name": "stderr",
     "output_type": "stream",
     "text": [
      "                                                                                \r"
     ]
    }
   ],
   "source": [
    "# define pipeline for random forest\n",
    "\n",
    "RF_pipeline_all = Pipeline(stages=stages_all_features+[RF]).fit(train)\n",
    "#RF_pipeline_selected = Pipeline(stages=stages_selected+[RF]).fit(train)\n",
    "RF_pipeline_twitter = Pipeline(stages=stages_twitter_features+[RF]).fit(train)\n",
    "RF_pipeline_ks = Pipeline(stages=stages_ks_features+[RF]).fit(train)\n",
    "\n"
   ]
  },
  {
   "cell_type": "code",
   "execution_count": 26,
   "id": "e08aee27",
   "metadata": {
    "scrolled": true
   },
   "outputs": [
    {
     "name": "stderr",
     "output_type": "stream",
     "text": [
      "\r",
      "[Stage 74:==========================================================(1 + 0) / 1]\r",
      "\r",
      "                                                                                \r"
     ]
    },
    {
     "name": "stdout",
     "output_type": "stream",
     "text": [
      "22/09/05 14:23:13 WARN InstanceBuilder$JavaBLAS: Failed to load implementation from:dev.ludovic.netlib.blas.VectorBLAS\n",
      "22/09/05 14:23:13 WARN InstanceBuilder$NativeBLAS: Failed to load implementation from:dev.ludovic.netlib.blas.JNIBLAS\n",
      "22/09/05 14:23:13 WARN InstanceBuilder$NativeBLAS: Failed to load implementation from:dev.ludovic.netlib.blas.ForeignLinkerBLAS\n"
     ]
    }
   ],
   "source": [
    "# define pipeline for LR\n",
    "LR_pipeline_all = Pipeline(stages=stages_all_features+[LR]).fit(train)\n",
    "#LR_pipeline_selected = Pipeline(stages=stages_selected+[LR]).fit(train)\n",
    "LR_pipeline_twitter = Pipeline(stages=stages_twitter_features+[LR]).fit(train)\n",
    "LR_pipeline_ks = Pipeline(stages=stages_ks_features+[LR]).fit(train)\n"
   ]
  },
  {
   "cell_type": "code",
   "execution_count": 27,
   "id": "abdd3bd7",
   "metadata": {},
   "outputs": [],
   "source": [
    "# define pipeline for XGboost\n",
    "XG_pipeline_all = Pipeline(stages=stages_all_features+[XG]).fit(train)\n",
    "#XG_pipeline_selected = Pipeline(stages=stages_selected+[XG]).fit(train)\n",
    "XG_pipeline_twitter = Pipeline(stages=stages_twitter_features+[XG]).fit(train)\n",
    "XG_pipeline_ks = Pipeline(stages=stages_ks_features+[XG]).fit(train)\n",
    "\n",
    "\n"
   ]
  },
  {
   "cell_type": "code",
   "execution_count": 28,
   "id": "5ce53e64",
   "metadata": {},
   "outputs": [],
   "source": [
    "# rondom forest : get predictions on validation set\n",
    "model_rf1_preds = RF_pipeline_all.transform(val)\n",
    "#model_rf2_preds = RF_pipeline_selected.transform(val)\n",
    "model_rf3_preds = RF_pipeline_twitter.transform(val)\n",
    "model_rf4_preds = RF_pipeline_ks.transform(val)\n"
   ]
  },
  {
   "cell_type": "code",
   "execution_count": 29,
   "id": "a6866d9f",
   "metadata": {},
   "outputs": [],
   "source": [
    "# Logistic regression: \n",
    "model_lg1_preds = LR_pipeline_all.transform(val)\n",
    "#model_lg2_preds = LR_pipeline_selected.transform(val)\n",
    "model_lg3_preds = LR_pipeline_twitter.transform(val)\n",
    "model_lg4_preds = LR_pipeline_ks.transform(val)"
   ]
  },
  {
   "cell_type": "code",
   "execution_count": 30,
   "id": "866c3ef2",
   "metadata": {},
   "outputs": [],
   "source": [
    "# xgboost\n",
    "model_xg1_preds = XG_pipeline_all.transform(val)\n",
    "#model_xg2_preds = XG_pipeline_selected.transform(val)\n",
    "model_xg3_preds = XG_pipeline_twitter.transform(val)\n",
    "model_xg4_preds = XG_pipeline_ks.transform(val)"
   ]
  },
  {
   "cell_type": "markdown",
   "id": "76a84bf5",
   "metadata": {},
   "source": [
    "# Evaluation"
   ]
  },
  {
   "cell_type": "code",
   "execution_count": 31,
   "id": "071cd15e",
   "metadata": {},
   "outputs": [],
   "source": [
    "# import evaluator\n",
    "from pyspark.ml.evaluation import BinaryClassificationEvaluator, MulticlassClassificationEvaluator\n",
    "\n"
   ]
  },
  {
   "cell_type": "code",
   "execution_count": 32,
   "id": "a41bf084",
   "metadata": {},
   "outputs": [
    {
     "name": "stdout",
     "output_type": "stream",
     "text": [
      "22/09/05 15:09:16 WARN DAGScheduler: Broadcasting large task binary with size 2.5 MiB\n"
     ]
    },
    {
     "name": "stderr",
     "output_type": "stream",
     "text": [
      "                                                                                \r"
     ]
    },
    {
     "name": "stdout",
     "output_type": "stream",
     "text": [
      "22/09/05 15:09:17 WARN DAGScheduler: Broadcasting large task binary with size 2.3 MiB\n",
      "22/09/05 15:09:18 WARN DAGScheduler: Broadcasting large task binary with size 2.4 MiB\n"
     ]
    },
    {
     "name": "stderr",
     "output_type": "stream",
     "text": [
      "                                                                                \r"
     ]
    }
   ],
   "source": [
    "# define the evaluator:ROC \n",
    "evaluator = BinaryClassificationEvaluator(rawPredictionCol=\"probability\", labelCol=\"label\", metricName=\"areaUnderROC\")\n",
    "# evaluate random forest \n",
    "model_1_auc = evaluator.evaluate(model_rf1_preds)\n",
    "#model_2_auc = evaluator.evaluate(model_rf2_preds)\n",
    "model_3_auc = evaluator.evaluate(model_rf3_preds)\n",
    "model_4_auc = evaluator.evaluate(model_rf4_preds)\n",
    "\n"
   ]
  },
  {
   "cell_type": "code",
   "execution_count": 33,
   "id": "1322a9cb",
   "metadata": {},
   "outputs": [
    {
     "name": "stdout",
     "output_type": "stream",
     "text": [
      "0.8476429159302183\n",
      "0.7323859573377227\n",
      "0.8098378239810029\n"
     ]
    }
   ],
   "source": [
    "# print the auc random forest\n",
    "print(model_1_auc)\n",
    "#print(model_2_auc)\n",
    "print(model_3_auc)\n",
    "print(model_4_auc)"
   ]
  },
  {
   "cell_type": "code",
   "execution_count": 34,
   "id": "984c9db7",
   "metadata": {},
   "outputs": [
    {
     "name": "stdout",
     "output_type": "stream",
     "text": [
      "0.8104550912746068\n",
      "0.6890018484288355\n",
      "0.795789090222216\n"
     ]
    }
   ],
   "source": [
    "# evaluate logistic regression\n",
    "model_5_auc = evaluator.evaluate(model_lg1_preds)\n",
    "#model_6_auc = evaluator.evaluate(model_lg2_preds)\n",
    "model_7_auc = evaluator.evaluate(model_lg3_preds)\n",
    "model_8_auc = evaluator.evaluate(model_lg4_preds)\n",
    "\n",
    "\n",
    "# print the auc\n",
    "print(model_5_auc)\n",
    "#print(model_6_auc)\n",
    "print(model_7_auc)\n",
    "print(model_8_auc)"
   ]
  },
  {
   "cell_type": "code",
   "execution_count": null,
   "id": "67e2b8e9",
   "metadata": {},
   "outputs": [],
   "source": []
  },
  {
   "cell_type": "code",
   "execution_count": 35,
   "id": "9ec531bc",
   "metadata": {
    "scrolled": false
   },
   "outputs": [
    {
     "name": "stdout",
     "output_type": "stream",
     "text": [
      "0.8199603329870344\n",
      "0.7004162337925173\n",
      "0.7774667080426894\n"
     ]
    }
   ],
   "source": [
    "# evaluate RF\n",
    "model_9_auc = evaluator.evaluate(model_xg1_preds)\n",
    "#model_10_auc = evaluator.evaluate(model_xg2_preds)\n",
    "model_11_auc = evaluator.evaluate(model_xg3_preds)\n",
    "model_12_auc = evaluator.evaluate(model_xg4_preds)\n",
    "\n",
    "\n",
    "# print the auc\n",
    "print(model_9_auc)\n",
    "#print(model_10_auc)\n",
    "print(model_11_auc)\n",
    "print(model_12_auc)"
   ]
  },
  {
   "cell_type": "markdown",
   "id": "0aea217e",
   "metadata": {},
   "source": [
    "# Comparaison of theses three models\n"
   ]
  },
  {
   "cell_type": "code",
   "execution_count": 36,
   "id": "b26da20a",
   "metadata": {},
   "outputs": [],
   "source": [
    "# bar chart \n",
    "dict_ = {'Random_Forest':[model_1_auc,model_3_auc,model_4_auc],\n",
    "         'Logistic_Regression':[model_5_auc,model_7_auc,model_8_auc],\n",
    "         'XGBoost':[model_9_auc,model_11_auc,model_12_auc],\n",
    "          'data_type':['all','tweet','ks']}\n",
    "pd = pd.DataFrame(dict_)"
   ]
  },
  {
   "cell_type": "code",
   "execution_count": 37,
   "id": "18b3b2d1",
   "metadata": {},
   "outputs": [],
   "source": [
    "list_dict=['Random_Forest','Logistic_Regression','XGBoost']\n"
   ]
  },
  {
   "cell_type": "code",
   "execution_count": 39,
   "id": "33459789",
   "metadata": {
    "scrolled": false
   },
   "outputs": [
    {
     "data": {
      "image/png": "[encoded data removed]",
      "text/plain": [
       "<Figure size 720x504 with 1 Axes>"
      ]
     },
     "metadata": {
      "needs_background": "light"
     },
     "output_type": "display_data"
    }
   ],
   "source": [
    "plt.figure(figsize=(10,7))\n",
    "\n",
    "# 对应的y轴\n",
    "plt.bar(np.arange(3),dict_['Random_Forest'],alpha=0.4,width=0.2,label='all_data')\n",
    "plt.bar(np.arange(3)+0.2,dict_['Logistic_Regression'],color='lightcoral',alpha=0.5,width=0.2,label='twitter')\n",
    "plt.bar(np.arange(3)+0.4,dict_['XGBoost'],color='orange',width=0.2,alpha=0.4,label='ks')\n",
    "plt.xticks(np.arange(3)+0.2,list_dict)\n",
    "plt.ylabel('AUC')\n",
    "plt.legend(loc='lower right')\n",
    "plt.show()"
   ]
  },
  {
   "cell_type": "markdown",
   "id": "0ebf3b1f",
   "metadata": {},
   "source": [
    " 1.we found that model with all data is more performant than other subset. "
   ]
  },
  {
   "cell_type": "code",
   "execution_count": 40,
   "id": "4d00fc7e",
   "metadata": {},
   "outputs": [],
   "source": [
    "from sklearn.metrics import roc_curve\n",
    "from pyspark.ml.functions import vector_to_array\n"
   ]
  },
  {
   "cell_type": "code",
   "execution_count": 41,
   "id": "85e6b472",
   "metadata": {},
   "outputs": [
    {
     "name": "stderr",
     "output_type": "stream",
     "text": [
      "                                                                                \r"
     ]
    }
   ],
   "source": [
    "y_score = model_xg1_preds.select(vector_to_array(\"probability\")[1]).rdd.keys().collect()\n",
    "y_true = model_xg1_preds.select(\"label\").rdd.keys().collect()\n",
    "fpr, tpr, thresholds = roc_curve(y_true, y_score)"
   ]
  },
  {
   "cell_type": "code",
   "execution_count": 42,
   "id": "e4e0a2db",
   "metadata": {},
   "outputs": [
    {
     "name": "stdout",
     "output_type": "stream",
     "text": [
      "22/09/05 15:10:43 WARN DAGScheduler: Broadcasting large task binary with size 2.5 MiB\n"
     ]
    },
    {
     "name": "stderr",
     "output_type": "stream",
     "text": [
      "                                                                                \r"
     ]
    },
    {
     "data": {
      "image/png": "[encoded data removed]",
      "text/plain": [
       "<Figure size 576x360 with 1 Axes>"
      ]
     },
     "metadata": {
      "needs_background": "light"
     },
     "output_type": "display_data"
    }
   ],
   "source": [
    "plt.figure(figsize=(8,5))\n",
    "plt.plot([0, 1], [0, 1], 'r--')\n",
    "plt.plot(LR_pipeline_all.stages[-1].summary.roc.select('FPR').collect(),\n",
    "         LR_pipeline_all.stages[-1].summary.roc.select('TPR').collect(),alpha=0.5,label='Logistic Regression')\n",
    "\n",
    "plt.plot(RF_pipeline_all.stages[-1].summary.roc.select('FPR').collect(),\n",
    "         RF_pipeline_all.stages[-1].summary.roc.select('TPR').collect(),alpha=0.5,label='Random Forest')\n",
    "\n",
    "plt.plot(fpr,tpr,alpha=0.5,label='XGBoost')\n",
    "plt.xlabel('FPR')\n",
    "plt.ylabel('TPR')\n",
    "plt.legend(loc='lower right')\n",
    "plt.show()"
   ]
  },
  {
   "cell_type": "markdown",
   "id": "1eb7d9ed",
   "metadata": {},
   "source": [
    "# Final prediction \n",
    "\n",
    "As we conducted modeling for 3 different algorithm, we found Random Forest outperform than other algorithms "
   ]
  },
  {
   "cell_type": "code",
   "execution_count": 43,
   "id": "dfad05d5",
   "metadata": {},
   "outputs": [
    {
     "name": "stderr",
     "output_type": "stream",
     "text": [
      "                                                                                \r"
     ]
    },
    {
     "name": "stdout",
     "output_type": "stream",
     "text": [
      "22/09/05 15:10:58 WARN DAGScheduler: Broadcasting large task binary with size 1227.5 KiB\n"
     ]
    },
    {
     "name": "stderr",
     "output_type": "stream",
     "text": [
      "                                                                                \r"
     ]
    },
    {
     "name": "stdout",
     "output_type": "stream",
     "text": [
      "22/09/05 15:11:01 WARN DAGScheduler: Broadcasting large task binary with size 2.1 MiB\n"
     ]
    },
    {
     "name": "stderr",
     "output_type": "stream",
     "text": [
      "                                                                                \r"
     ]
    },
    {
     "name": "stdout",
     "output_type": "stream",
     "text": [
      "22/09/05 15:11:14 WARN DAGScheduler: Broadcasting large task binary with size 1095.9 KiB\n"
     ]
    },
    {
     "name": "stderr",
     "output_type": "stream",
     "text": [
      "                                                                                \r"
     ]
    },
    {
     "name": "stdout",
     "output_type": "stream",
     "text": [
      "22/09/05 15:11:15 WARN DAGScheduler: Broadcasting large task binary with size 1879.2 KiB\n"
     ]
    },
    {
     "name": "stderr",
     "output_type": "stream",
     "text": [
      "                                                                                \r"
     ]
    },
    {
     "name": "stdout",
     "output_type": "stream",
     "text": [
      "22/09/05 15:11:23 WARN DAGScheduler: Broadcasting large task binary with size 1207.0 KiB\n"
     ]
    },
    {
     "name": "stderr",
     "output_type": "stream",
     "text": [
      "                                                                                \r"
     ]
    },
    {
     "name": "stdout",
     "output_type": "stream",
     "text": [
      "22/09/05 15:11:24 WARN DAGScheduler: Broadcasting large task binary with size 2.1 MiB\n"
     ]
    },
    {
     "name": "stderr",
     "output_type": "stream",
     "text": [
      "                                                                                \r"
     ]
    }
   ],
   "source": [
    "big_train = train.unionAll(val)\n",
    "\n",
    "# set pipeline \n",
    "RF_pipeline_all = Pipeline(stages=stages_all_features+[RF]).fit(big_train)\n",
    "#RF_pipeline_selected = Pipeline(stages=stages_selected+[RF]).fit(big_train)\n",
    "RF_pipeline_twitter = Pipeline(stages=stages_twitter_features+[RF]).fit(big_train)\n",
    "RF_pipeline_ks = Pipeline(stages=stages_ks_features+[RF]).fit(big_train)\n",
    "\n",
    "\n",
    "\n",
    "# rondom forest : get predictions on testidation set\n",
    "model_rf1_preds = RF_pipeline_all.transform(test)\n",
    "#model_rf2_preds = RF_pipeline_selected.transform(test)\n",
    "model_rf3_preds = RF_pipeline_twitter.transform(test)\n",
    "model_rf4_preds = RF_pipeline_ks.transform(test)"
   ]
  },
  {
   "cell_type": "markdown",
   "id": "2a475bee",
   "metadata": {},
   "source": [
    "# Evaluation of final model"
   ]
  },
  {
   "cell_type": "code",
   "execution_count": 45,
   "id": "38f8afd1",
   "metadata": {
    "scrolled": false
   },
   "outputs": [
    {
     "name": "stdout",
     "output_type": "stream",
     "text": [
      "22/09/05 15:12:20 WARN DAGScheduler: Broadcasting large task binary with size 2.5 MiB\n",
      "22/09/05 15:12:20 WARN DAGScheduler: Broadcasting large task binary with size 2.3 MiB\n",
      "22/09/05 15:12:21 WARN DAGScheduler: Broadcasting large task binary with size 2.4 MiB\n",
      "0.8385848022265321\n",
      "0.7353349638750671\n",
      "0.8039245452756462\n"
     ]
    }
   ],
   "source": [
    "# etestuate random forest evaluator.evaluate\n",
    "model_1_auc = evaluator.evaluate(model_rf1_preds)\n",
    "#model_2_auc = evaluator.evaluate(model_rf2_preds)\n",
    "model_3_auc = evaluator.evaluate(model_rf3_preds)\n",
    "model_4_auc = evaluator.evaluate(model_rf4_preds)\n",
    "\n",
    "\n",
    "# print the auc\n",
    "print(model_1_auc)\n",
    "#print(model_2_auc)\n",
    "print(model_3_auc)\n",
    "print(model_4_auc)\n"
   ]
  },
  {
   "cell_type": "code",
   "execution_count": 46,
   "id": "fb4209af",
   "metadata": {
    "scrolled": false
   },
   "outputs": [
    {
     "name": "stdout",
     "output_type": "stream",
     "text": [
      "22/09/05 15:12:28 WARN DAGScheduler: Broadcasting large task binary with size 2.5 MiB\n",
      "22/09/05 15:12:28 WARN DAGScheduler: Broadcasting large task binary with size 2.5 MiB\n",
      "22/09/05 15:12:29 WARN DAGScheduler: Broadcasting large task binary with size 2.5 MiB\n"
     ]
    },
    {
     "data": {
      "image/png": "[encoded data removed]",
      "text/plain": [
       "<Figure size 432x288 with 2 Axes>"
      ]
     },
     "metadata": {
      "needs_background": "light"
     },
     "output_type": "display_data"
    }
   ],
   "source": [
    "# import confusion matrix and get confusion matrix for all variables \n",
    "from sklearn.metrics import confusion_matrix, ConfusionMatrixDisplay\n",
    "\n",
    "# get predictions and labels\n",
    "preds_and_labels = model_rf1_preds.select(['prediction','label']) \\\n",
    "                                  .withColumn('label', F.col('label').cast(FloatType())) \\\n",
    "                                  .orderBy('prediction') \\\n",
    "                                  .toPandas()\n",
    "\n",
    "# get confusion matrix\n",
    "cm = confusion_matrix(preds_and_labels[\"label\"], preds_and_labels[\"prediction\"], labels=[0, 1])\n",
    "# get confusion matrix figure\n",
    "disp = ConfusionMatrixDisplay(confusion_matrix=cm, display_labels=[0, 1])\n",
    "# plot figure\n",
    "disp.plot()\n",
    "plt.show()"
   ]
  },
  {
   "cell_type": "markdown",
   "id": "83b884ec",
   "metadata": {},
   "source": [
    "# Interpretation of outcome \n",
    "\n",
    "\n",
    "1. feature importance\n",
    "2. AUC "
   ]
  },
  {
   "cell_type": "code",
   "execution_count": 198,
   "id": "f11c7a4d",
   "metadata": {
    "scrolled": true
   },
   "outputs": [
    {
     "data": {
      "text/plain": [
       "[VectorAssembler_d45b65463688,\n",
       " StandardScalerModel: uid=StandardScaler_6773088b2217, numFeatures=19, withMean=false, withStd=true,\n",
       " StringIndexerModel: uid=StringIndexer_7bf9e5523345, handleInvalid=error, numInputCols=1, numOutputCols=1,\n",
       " VectorAssembler_88ce207c8375,\n",
       " VectorAssembler_6a07530968de,\n",
       " RandomForestClassificationModel: uid=RandomForestClassifier_41ba45a73fff, numTrees=500, numClasses=2, numFeatures=21]"
      ]
     },
     "execution_count": 198,
     "metadata": {},
     "output_type": "execute_result"
    }
   ],
   "source": [
    "RF_pipeline_all.stages\n",
    "# you can find all stages : sclaler , indexer ...\n"
   ]
  },
  {
   "cell_type": "code",
   "execution_count": 48,
   "id": "e16d5350",
   "metadata": {
    "scrolled": true
   },
   "outputs": [],
   "source": [
    "all_variables = big_train.columns\n",
    "\n",
    "all_variables.remove('weight')\n"
   ]
  },
  {
   "cell_type": "code",
   "execution_count": 49,
   "id": "9b02a95d",
   "metadata": {},
   "outputs": [],
   "source": [
    "feature_scores = RF_pipeline_all.stages[-1].featureImportances\n",
    "# get the feature names\n",
    "feature_names = all_num_col + catColumns + ['duration_30']\n",
    "# zip\n",
    "feature_names_scores = zip(feature_names, feature_scores)\n",
    "# sort\n",
    "feature_names_scores_sorted = sorted(feature_names_scores, key=lambda x: x[1], reverse=False)\n",
    "# get feature names\n",
    "feature_names_sorted = [obs[0] for obs in feature_names_scores_sorted]\n",
    "# get feature scores\n",
    "feature_scores_sorted = [obs[1] for obs in feature_names_scores_sorted]"
   ]
  },
  {
   "cell_type": "code",
   "execution_count": 50,
   "id": "08a84cf1",
   "metadata": {},
   "outputs": [
    {
     "data": {
      "image/png": "[encoded data removed]",
      "text/plain": [
       "<Figure size 720x720 with 1 Axes>"
      ]
     },
     "metadata": {
      "needs_background": "light"
     },
     "output_type": "display_data"
    }
   ],
   "source": [
    "plt.figure(figsize=(10, 10))\n",
    "sns.barplot(y=feature_names_sorted, x=feature_scores_sorted)\n",
    "sns.despine(left = True, bottom = True)\n",
    "plt.show()"
   ]
  }
 ],
 "metadata": {
  "kernelspec": {
   "display_name": "Python 3 (ipykernel)",
   "language": "python",
   "name": "python3"
  },
  "language_info": {
   "codemirror_mode": {
    "name": "ipython",
    "version": 3
   },
   "file_extension": ".py",
   "mimetype": "text/x-python",
   "name": "python",
   "nbconvert_exporter": "python",
   "pygments_lexer": "ipython3",
   "version": "3.9.12"
  }
 },
 "nbformat": 4,
 "nbformat_minor": 5
}
