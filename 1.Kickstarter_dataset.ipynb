{
 "cells": [
  {
   "cell_type": "code",
   "execution_count": 1,
   "id": "169521c7",
   "metadata": {},
   "outputs": [
    {
     "name": "stderr",
     "output_type": "stream",
     "text": [
      "Setting default log level to \"WARN\".\n",
      "To adjust logging level use sc.setLogLevel(newLevel). For SparkR, use setLogLevel(newLevel).\n"
     ]
    },
    {
     "name": "stdout",
     "output_type": "stream",
     "text": [
      "22/08/23 13:51:13 WARN NativeCodeLoader: Unable to load native-hadoop library for your platform... using builtin-java classes where applicable\n"
     ]
    }
   ],
   "source": [
    "import pyspark.sql.functions as F\n",
    "from pyspark.sql.types import *\n",
    "import pandas as pd\n",
    "import numpy as np\n",
    "import re\n",
    "import os \n",
    "\n",
    "import findspark\n",
    "findspark.init()\n",
    "\n",
    "import pyspark\n",
    "from pyspark.sql import SparkSession\n",
    "findspark.find()\n",
    "\n",
    "spark = SparkSession.builder.getOrCreate()\n",
    "from pyspark.sql.types import *"
   ]
  },
  {
   "cell_type": "code",
   "execution_count": 2,
   "id": "1e33a966",
   "metadata": {},
   "outputs": [],
   "source": [
    "import plotly.express as px\n",
    "import matplotlib.pyplot as plt\n",
    "import seaborn as sns\n",
    "\n"
   ]
  },
  {
   "cell_type": "code",
   "execution_count": 2,
   "id": "6eb41af4",
   "metadata": {
    "scrolled": true
   },
   "outputs": [
    {
     "data": {
      "text/html": [
       "\n",
       "            <div>\n",
       "                <p><b>SparkSession - in-memory</b></p>\n",
       "                \n",
       "        <div>\n",
       "            <p><b>SparkContext</b></p>\n",
       "\n",
       "            <p><a href=\"http://10.80.7.159:4040\">Spark UI</a></p>\n",
       "\n",
       "            <dl>\n",
       "              <dt>Version</dt>\n",
       "                <dd><code>v3.3.0</code></dd>\n",
       "              <dt>Master</dt>\n",
       "                <dd><code>local[*]</code></dd>\n",
       "              <dt>AppName</dt>\n",
       "                <dd><code>pyspark-shell</code></dd>\n",
       "            </dl>\n",
       "        </div>\n",
       "        \n",
       "            </div>\n",
       "        "
      ],
      "text/plain": [
       "<pyspark.sql.session.SparkSession at 0x7fc1a36d06d0>"
      ]
     },
     "execution_count": 2,
     "metadata": {},
     "output_type": "execute_result"
    }
   ],
   "source": [
    "# check\n",
    "spark"
   ]
  },
  {
   "cell_type": "code",
   "execution_count": 3,
   "id": "de9db1a1",
   "metadata": {
    "scrolled": true
   },
   "outputs": [
    {
     "data": {
      "text/plain": [
       "'/Users/echo/Desktop/BigData/Group_Assignment'"
      ]
     },
     "execution_count": 3,
     "metadata": {},
     "output_type": "execute_result"
    }
   ],
   "source": [
    "os.getcwd()"
   ]
  },
  {
   "cell_type": "markdown",
   "id": "7a3d219c",
   "metadata": {},
   "source": [
    "# 1. Kickstarter Data"
   ]
  },
  {
   "cell_type": "markdown",
   "id": "b259d47a",
   "metadata": {},
   "source": [
    "<font size=\"3\">First, lets import the kickstarter data. This data was scraped by a webscraper and can be found online on https://webrobots.io/kickstarter-datasets/. Each month, data is scraped from kickstarter.com and is stored in json files. This means that for each monthly scrape new projects that were launched after the previous scrape will now appear in the data. Projects that were included in the previous scrape but that reached their deadline before the current scrape will no longer appear in the data. Projects that were included in the previous scrape but that did not yet reached their deadline will again be included in the \n",
    "    \n"
   ]
  },
  {
   "cell_type": "markdown",
   "id": "45ef4c14",
   "metadata": {},
   "source": [
    "## 1.1. Import json files"
   ]
  },
  {
   "cell_type": "code",
   "execution_count": 4,
   "id": "04cb7d46",
   "metadata": {},
   "outputs": [],
   "source": [
    "# define the data directory\n",
    "data_dir = \"./data/kickstarter/\" # find on websit of https://webrobots.io/kickstarter-datasets/\n",
    "# get all the kickstarter files\n",
    "kickstarter_files = [os.path.join(data_dir, obs) for obs in os.listdir(data_dir)]"
   ]
  },
  {
   "cell_type": "code",
   "execution_count": 5,
   "id": "357703de",
   "metadata": {
    "scrolled": true
   },
   "outputs": [
    {
     "data": {
      "text/plain": [
       "['./data/kickstarter/Kickstarter_2020-03-12T03_20_06_551Z.json.gz',\n",
       " './data/kickstarter/Kickstarter_2020-04-16T03_20_04_541Z.json.gz',\n",
       " './data/kickstarter/Kickstarter_2020-05-14T03_20_08_560Z.json.gz',\n",
       " './data/kickstarter/Kickstarter_2020-06-18T03_20_07_487Z.json.gz',\n",
       " './data/kickstarter/Kickstarter_2020-07-16T03_20_08_086Z.json.gz',\n",
       " './data/kickstarter/Kickstarter_2020-08-13T03_20_17_470Z.json.gz',\n",
       " './data/kickstarter/Kickstarter_2020-09-17T03_20_18_143Z.json.gz',\n",
       " './data/kickstarter/Kickstarter_2020-10-15T03_20_03_128Z.json.gz',\n",
       " './data/kickstarter/Kickstarter_2020-11-12T03_20_11_453Z.json.gz',\n",
       " './data/kickstarter/Kickstarter_2020-12-17T03_20_12_051Z.json.gz',\n",
       " './data/kickstarter/Kickstarter_2021-01-14T03_20_05_328Z.json.gz',\n",
       " './data/kickstarter/Kickstarter_2021-02-11T03_20_07_976Z.json.gz',\n",
       " './data/kickstarter/Kickstarter_2021-03-18T03_20_11_507Z.json.gz',\n",
       " './data/kickstarter/Kickstarter_2021-04-15T03_20_08_451Z.json.gz',\n",
       " './data/kickstarter/Kickstarter_2021-05-13T03_20_03_813Z.json.gz',\n",
       " './data/kickstarter/Kickstarter_2021-06-17T03_20_03_179Z.json.gz',\n",
       " './data/kickstarter/Kickstarter_2021-07-15T03_20_57_837Z.json.gz',\n",
       " './data/kickstarter/Kickstarter_2021-08-12T03_20_04_185Z.json.gz',\n",
       " './data/kickstarter/Kickstarter_2021-09-16T03_20_11_333Z.json.gz']"
      ]
     },
     "execution_count": 5,
     "metadata": {},
     "output_type": "execute_result"
    }
   ],
   "source": [
    "# check\n",
    "kickstarter_files"
   ]
  },
  {
   "cell_type": "code",
   "execution_count": 6,
   "id": "6207206f",
   "metadata": {},
   "outputs": [],
   "source": [
    "# import data\n",
    "kickstarter_df = spark.read.json(kickstarter_files)"
   ]
  },
  {
   "cell_type": "code",
   "execution_count": 7,
   "id": "ea1f1b71",
   "metadata": {},
   "outputs": [
    {
     "data": {
      "text/plain": [
       "3330989"
      ]
     },
     "execution_count": 7,
     "metadata": {},
     "output_type": "execute_result"
    }
   ],
   "source": [
    "# inspect number of observations\n",
    "kickstarter_df.count()"
   ]
  },
  {
   "cell_type": "code",
   "execution_count": 8,
   "id": "f63107f3",
   "metadata": {},
   "outputs": [
    {
     "name": "stdout",
     "output_type": "stream",
     "text": [
      "root\n",
      " |-- data: struct (nullable = true)\n",
      " |    |-- backers_count: long (nullable = true)\n",
      " |    |-- blurb: string (nullable = true)\n",
      " |    |-- category: struct (nullable = true)\n",
      " |    |    |-- analytics_name: string (nullable = true)\n",
      " |    |    |-- color: long (nullable = true)\n",
      " |    |    |-- id: long (nullable = true)\n",
      " |    |    |-- name: string (nullable = true)\n",
      " |    |    |-- parent_id: long (nullable = true)\n",
      " |    |    |-- parent_name: string (nullable = true)\n",
      " |    |    |-- position: long (nullable = true)\n",
      " |    |    |-- slug: string (nullable = true)\n",
      " |    |    |-- urls: struct (nullable = true)\n",
      " |    |    |    |-- web: struct (nullable = true)\n",
      " |    |    |    |    |-- discover: string (nullable = true)\n",
      " |    |-- converted_pledged_amount: long (nullable = true)\n",
      " |    |-- country: string (nullable = true)\n",
      " |    |-- country_displayable_name: string (nullable = true)\n",
      " |    |-- created_at: long (nullable = true)\n",
      " |    |-- creator: struct (nullable = true)\n",
      " |    |    |-- avatar: struct (nullable = true)\n",
      " |    |    |    |-- medium: string (nullable = true)\n",
      " |    |    |    |-- small: string (nullable = true)\n",
      " |    |    |    |-- thumb: string (nullable = true)\n",
      " |    |    |-- chosen_currency: string (nullable = true)\n",
      " |    |    |-- id: long (nullable = true)\n",
      " |    |    |-- is_email_verified: string (nullable = true)\n",
      " |    |    |-- is_registered: boolean (nullable = true)\n",
      " |    |    |-- is_superbacker: boolean (nullable = true)\n",
      " |    |    |-- name: string (nullable = true)\n",
      " |    |    |-- slug: string (nullable = true)\n",
      " |    |    |-- urls: struct (nullable = true)\n",
      " |    |    |    |-- api: struct (nullable = true)\n",
      " |    |    |    |    |-- user: string (nullable = true)\n",
      " |    |    |    |-- web: struct (nullable = true)\n",
      " |    |    |    |    |-- user: string (nullable = true)\n",
      " |    |-- currency: string (nullable = true)\n",
      " |    |-- currency_symbol: string (nullable = true)\n",
      " |    |-- currency_trailing_code: boolean (nullable = true)\n",
      " |    |-- current_currency: string (nullable = true)\n",
      " |    |-- deadline: long (nullable = true)\n",
      " |    |-- disable_communication: boolean (nullable = true)\n",
      " |    |-- friends: array (nullable = true)\n",
      " |    |    |-- element: struct (containsNull = true)\n",
      " |    |    |    |-- avatar: struct (nullable = true)\n",
      " |    |    |    |    |-- medium: string (nullable = true)\n",
      " |    |    |    |    |-- small: string (nullable = true)\n",
      " |    |    |    |    |-- thumb: string (nullable = true)\n",
      " |    |    |    |-- chosen_currency: string (nullable = true)\n",
      " |    |    |    |-- id: long (nullable = true)\n",
      " |    |    |    |-- is_email_verified: string (nullable = true)\n",
      " |    |    |    |-- is_friend: boolean (nullable = true)\n",
      " |    |    |    |-- is_registered: string (nullable = true)\n",
      " |    |    |    |-- is_superbacker: string (nullable = true)\n",
      " |    |    |    |-- name: string (nullable = true)\n",
      " |    |    |    |-- slug: string (nullable = true)\n",
      " |    |    |    |-- urls: struct (nullable = true)\n",
      " |    |    |    |    |-- api: struct (nullable = true)\n",
      " |    |    |    |    |    |-- user: string (nullable = true)\n",
      " |    |    |    |    |-- web: struct (nullable = true)\n",
      " |    |    |    |    |    |-- user: string (nullable = true)\n",
      " |    |-- fx_rate: double (nullable = true)\n",
      " |    |-- goal: double (nullable = true)\n",
      " |    |-- id: long (nullable = true)\n",
      " |    |-- is_backing: boolean (nullable = true)\n",
      " |    |-- is_starrable: boolean (nullable = true)\n",
      " |    |-- is_starred: boolean (nullable = true)\n",
      " |    |-- last_update_published_at: long (nullable = true)\n",
      " |    |-- launched_at: long (nullable = true)\n",
      " |    |-- location: struct (nullable = true)\n",
      " |    |    |-- country: string (nullable = true)\n",
      " |    |    |-- displayable_name: string (nullable = true)\n",
      " |    |    |-- expanded_country: string (nullable = true)\n",
      " |    |    |-- id: long (nullable = true)\n",
      " |    |    |-- is_root: boolean (nullable = true)\n",
      " |    |    |-- localized_name: string (nullable = true)\n",
      " |    |    |-- name: string (nullable = true)\n",
      " |    |    |-- short_name: string (nullable = true)\n",
      " |    |    |-- slug: string (nullable = true)\n",
      " |    |    |-- state: string (nullable = true)\n",
      " |    |    |-- type: string (nullable = true)\n",
      " |    |    |-- urls: struct (nullable = true)\n",
      " |    |    |    |-- api: struct (nullable = true)\n",
      " |    |    |    |    |-- nearby_projects: string (nullable = true)\n",
      " |    |    |    |-- web: struct (nullable = true)\n",
      " |    |    |    |    |-- discover: string (nullable = true)\n",
      " |    |    |    |    |-- location: string (nullable = true)\n",
      " |    |-- name: string (nullable = true)\n",
      " |    |-- permissions: array (nullable = true)\n",
      " |    |    |-- element: string (containsNull = true)\n",
      " |    |-- photo: struct (nullable = true)\n",
      " |    |    |-- 1024x576: string (nullable = true)\n",
      " |    |    |-- 1536x864: string (nullable = true)\n",
      " |    |    |-- ed: string (nullable = true)\n",
      " |    |    |-- full: string (nullable = true)\n",
      " |    |    |-- key: string (nullable = true)\n",
      " |    |    |-- little: string (nullable = true)\n",
      " |    |    |-- med: string (nullable = true)\n",
      " |    |    |-- small: string (nullable = true)\n",
      " |    |    |-- thumb: string (nullable = true)\n",
      " |    |-- pledged: double (nullable = true)\n",
      " |    |-- profile: struct (nullable = true)\n",
      " |    |    |-- background_color: string (nullable = true)\n",
      " |    |    |-- background_image_attributes: struct (nullable = true)\n",
      " |    |    |    |-- id: long (nullable = true)\n",
      " |    |    |    |-- image_urls: struct (nullable = true)\n",
      " |    |    |    |    |-- baseball_card: string (nullable = true)\n",
      " |    |    |    |    |-- default: string (nullable = true)\n",
      " |    |    |-- background_image_opacity: double (nullable = true)\n",
      " |    |    |-- blurb: string (nullable = true)\n",
      " |    |    |-- feature_image_attributes: struct (nullable = true)\n",
      " |    |    |    |-- id: long (nullable = true)\n",
      " |    |    |    |-- image_urls: struct (nullable = true)\n",
      " |    |    |    |    |-- baseball_card: string (nullable = true)\n",
      " |    |    |    |    |-- default: string (nullable = true)\n",
      " |    |    |-- id: long (nullable = true)\n",
      " |    |    |-- link_background_color: string (nullable = true)\n",
      " |    |    |-- link_text: string (nullable = true)\n",
      " |    |    |-- link_text_color: string (nullable = true)\n",
      " |    |    |-- link_url: string (nullable = true)\n",
      " |    |    |-- name: string (nullable = true)\n",
      " |    |    |-- project_id: long (nullable = true)\n",
      " |    |    |-- should_show_feature_image_section: boolean (nullable = true)\n",
      " |    |    |-- show_feature_image: boolean (nullable = true)\n",
      " |    |    |-- state: string (nullable = true)\n",
      " |    |    |-- state_changed_at: long (nullable = true)\n",
      " |    |    |-- text_color: string (nullable = true)\n",
      " |    |-- slug: string (nullable = true)\n",
      " |    |-- source_url: string (nullable = true)\n",
      " |    |-- spotlight: boolean (nullable = true)\n",
      " |    |-- staff_pick: boolean (nullable = true)\n",
      " |    |-- state: string (nullable = true)\n",
      " |    |-- state_changed_at: long (nullable = true)\n",
      " |    |-- static_usd_rate: double (nullable = true)\n",
      " |    |-- unread_messages_count: long (nullable = true)\n",
      " |    |-- unseen_activity_count: long (nullable = true)\n",
      " |    |-- urls: struct (nullable = true)\n",
      " |    |    |-- api: struct (nullable = true)\n",
      " |    |    |    |-- message_creator: string (nullable = true)\n",
      " |    |    |    |-- message_threads: string (nullable = true)\n",
      " |    |    |    |-- star: string (nullable = true)\n",
      " |    |    |-- web: struct (nullable = true)\n",
      " |    |    |    |-- message_creator: string (nullable = true)\n",
      " |    |    |    |-- project: string (nullable = true)\n",
      " |    |    |    |-- rewards: string (nullable = true)\n",
      " |    |-- usd_exchange_rate: double (nullable = true)\n",
      " |    |-- usd_pledged: string (nullable = true)\n",
      " |    |-- usd_type: string (nullable = true)\n",
      " |-- robot_id: string (nullable = true)\n",
      " |-- run_id: string (nullable = true)\n",
      " |-- table_id: string (nullable = true)\n",
      "\n"
     ]
    }
   ],
   "source": [
    "kickstarter_df.printSchema()"
   ]
  },
  {
   "cell_type": "markdown",
   "id": "0cc23b31",
   "metadata": {},
   "source": [
    "## 1.2. Parse json files"
   ]
  },
  {
   "cell_type": "markdown",
   "id": "fdf43d67",
   "metadata": {},
   "source": [
    "<font size=\"3\">Lets now parse the json files. This means that we will extract the relevant information from the json files such that for each project, we will have one row of features."
   ]
  },
  {
   "cell_type": "code",
   "execution_count": 9,
   "id": "58f1f90f",
   "metadata": {},
   "outputs": [],
   "source": [
    "# select interesting features\n",
    "kickstarter_sub = kickstarter_df.select(F.col(\"run_id\"),\n",
    "                                       F.col(\"data.id\"),\n",
    "                                       F.col(\"data.name\").alias(\"project_name\"),\n",
    "                                       F.col(\"data.blurb\").alias(\"project_description\"),\n",
    "                                       F.col(\"data.urls.web.project\").alias(\"project_url\"),\n",
    "                                       F.col(\"data.photo.full\").alias(\"photo_url\"),\n",
    "                                       F.col(\"data.country\"),\n",
    "                                       F.col(\"data.currency\"),\n",
    "                                       F.col(\"data.staff_pick\"),\n",
    "                                       F.col(\"data.creator.name\").alias(\"creator_name\"),\n",
    "                                       F.col(\"data.backers_count\"),\n",
    "                                       F.col(\"data.goal\"),\n",
    "                                       F.col(\"data.pledged\"),\n",
    "                                       F.col(\"data.state\"),\n",
    "                                       F.col(\"data.launched_at\"),\n",
    "                                       F.col('data.category.analytics_name'),\n",
    "                                       F.col('data.category.name'),\n",
    "                                       F.col('data.category.parent_name'),\n",
    "                                       F.col('data.category.slug'),\n",
    "                                       F.col(\"data.deadline\"))\n"
   ]
  },
  {
   "cell_type": "markdown",
   "id": "df267dfa",
   "metadata": {},
   "source": [
    "## 1.3. Peprocess data"
   ]
  },
  {
   "cell_type": "markdown",
   "id": "93327a1d",
   "metadata": {},
   "source": [
    "<font size=\"3\">Now that the data is parsed, we can construct some more meaningfull features. \n",
    "We will also subset the data by obtaining only those projects that were launched after and ended before the start and end of our period of interest. "
   ]
  },
  {
   "cell_type": "code",
   "execution_count": 10,
   "id": "ae399d2e",
   "metadata": {
    "scrolled": true
   },
   "outputs": [],
   "source": [
    "# preprocess kickstarter data\n",
    "kickstarter_processed = kickstarter_sub.withColumn(\"scrape_date\", F.to_date(F.regexp_extract(F.col(\"run_id\"), pattern=\"(.*)(\\d{4}-\\d{2}-\\d{2})(.*)\", idx=2))) \\\n",
    "                                       .withColumn(\"scrape_date\", F.to_date(F.col(\"scrape_date\"), format=\"yyyy-mm-dd\")) \\\n",
    "                                       .withColumn(\"launched_at\", F.from_unixtime(F.col(\"launched_at\"))) \\\n",
    "                                       .withColumn(\"deadline\", F.from_unixtime(F.col(\"deadline\"))) \\\n",
    "                                       .withColumn(\"duration\", F.datediff(F.col(\"deadline\"), F.col(\"launched_at\"))) \\\n",
    "                                       .filter(F.col(\"launched_at\") >= F.lit(\"2020-01-01\")) \\\n",
    "                                       .sort(\"project_url\", \"scrape_date\")"
   ]
  },
  {
   "cell_type": "code",
   "execution_count": 11,
   "id": "21faaaef",
   "metadata": {},
   "outputs": [
    {
     "data": {
      "text/plain": [
       "501295"
      ]
     },
     "execution_count": 11,
     "metadata": {},
     "output_type": "execute_result"
    }
   ],
   "source": [
    "# check number of observations\n",
    "kickstarter_processed.count()"
   ]
  },
  {
   "cell_type": "code",
   "execution_count": 12,
   "id": "74fc89de",
   "metadata": {
    "scrolled": true
   },
   "outputs": [],
   "source": [
    "# inspect first 20 observations\n",
    "df_pd = kickstarter_processed.toPandas()"
   ]
  },
  {
   "cell_type": "markdown",
   "id": "a7deb3c5",
   "metadata": {},
   "source": [
    "## Creating the dependent variable project succes"
   ]
  },
  {
   "cell_type": "code",
   "execution_count": 13,
   "id": "151af9b7",
   "metadata": {},
   "outputs": [],
   "source": [
    "# remove live\n",
    "kickstarter_lable_df = kickstarter_processed.filter(F.col(\"state\") != \"live\") \\\n",
    "                                             .cache()"
   ]
  },
  {
   "cell_type": "code",
   "execution_count": 14,
   "id": "b8adc51d",
   "metadata": {
    "scrolled": true
   },
   "outputs": [],
   "source": [
    "# convert dataframe to pandas\n",
    "kickstarter_df = kickstarter_lable_df.toPandas()"
   ]
  },
  {
   "cell_type": "code",
   "execution_count": 15,
   "id": "3f3f1dec",
   "metadata": {},
   "outputs": [],
   "source": [
    "# set scrape_date to date\n",
    "kickstarter_df['scrape_date'] =  pd.to_datetime(kickstarter_df['scrape_date'])\n",
    "\n",
    "# group id by max scrape date to get max scrape date per unique project\n",
    "project_id_max_scrape = kickstarter_df.groupby('id').agg({'scrape_date':'max'}).reset_index()\n",
    "\n",
    "# merge project id and max scrapte date back to original dataframe to get end state per project \n",
    "kickstarter_depedent = kickstarter_df.merge(project_id_max_scrape, on = ['id', 'scrape_date'], how = 'inner').drop_duplicates()\n"
   ]
  },
  {
   "cell_type": "code",
   "execution_count": 16,
   "id": "26afdb40",
   "metadata": {},
   "outputs": [
    {
     "data": {
      "text/plain": [
       "(36965, 22)"
      ]
     },
     "execution_count": 16,
     "metadata": {},
     "output_type": "execute_result"
    }
   ],
   "source": [
    "kickstarter_depedent.shape"
   ]
  },
  {
   "cell_type": "code",
   "execution_count": 17,
   "id": "81ddbf81",
   "metadata": {
    "scrolled": true
   },
   "outputs": [
    {
     "name": "stdout",
     "output_type": "stream",
     "text": [
      "run_id has 19 unique values.\n",
      "id has 36965 unique values.\n",
      "project_name has 36931 unique values.\n",
      "project_description has 36608 unique values.\n",
      "project_url has 36965 unique values.\n",
      "photo_url has 36943 unique values.\n",
      "country has 25 unique values.\n",
      "currency has 15 unique values.\n",
      "staff_pick has 2 unique values.\n",
      "creator_name has 29419 unique values.\n",
      "backers_count has 2586 unique values.\n",
      "goal has 2330 unique values.\n",
      "pledged has 20747 unique values.\n",
      "state has 3 unique values.\n",
      "launched_at has 36834 unique values.\n",
      "analytics_name has 161 unique values.\n",
      "name has 160 unique values.\n",
      "parent_name has 16 unique values.\n",
      "slug has 170 unique values.\n",
      "deadline has 33907 unique values.\n",
      "scrape_date has 19 unique values.\n",
      "duration has 78 unique values.\n"
     ]
    }
   ],
   "source": [
    "# check for unique values per column in the dataset\n",
    "for col in kickstarter_depedent.columns:\n",
    "    print(\"%s has %s unique values.\"  %(col,len(kickstarter_depedent[col].unique())))"
   ]
  },
  {
   "cell_type": "markdown",
   "id": "e132894e",
   "metadata": {},
   "source": [
    "So now we got a dataframe outcome_projects with the unique combinations of id, state, max scrape_date, project descirption and project name. What we can conclude from above loop is that there are some project descriptions/names that occur multiple times and hence we have to use the id to evaluate the performance since id is unique."
   ]
  },
  {
   "cell_type": "code",
   "execution_count": 18,
   "id": "d59e96ce",
   "metadata": {
    "scrolled": true
   },
   "outputs": [
    {
     "data": {
      "text/plain": [
       "Blue                                                           3\n",
       "Eden's Grove Launch (Canceled)                                 3\n",
       "I AM                                                           3\n",
       "Be Kind To Your Mind                                           2\n",
       "\"Los Influs\" | Canciones infantiles para YouTube (Canceled)    2\n",
       "Corail - The sneakers that clean up the sea (Canceled)         2\n",
       "Sprout                                                         2\n",
       "Wes's Falafel Burger (Canceled)                                2\n",
       "The Office Enamel Pin Collection                               2\n",
       "STiX CraftHouse                                                2\n",
       "Name: project_name, dtype: int64"
      ]
     },
     "execution_count": 18,
     "metadata": {},
     "output_type": "execute_result"
    }
   ],
   "source": [
    "kickstarter_depedent['project_name'].value_counts().head(10)"
   ]
  },
  {
   "cell_type": "code",
   "execution_count": 19,
   "id": "c3280789",
   "metadata": {},
   "outputs": [
    {
     "data": {
      "text/plain": [
       "successful    73.455972\n",
       "failed        23.432977\n",
       "canceled       3.111051\n",
       "Name: state, dtype: float64"
      ]
     },
     "execution_count": 19,
     "metadata": {},
     "output_type": "execute_result"
    }
   ],
   "source": [
    "kickstarter_depedent['state'].value_counts(normalize=True)*100"
   ]
  },
  {
   "cell_type": "markdown",
   "id": "3b251a52",
   "metadata": {},
   "source": [
    "## Creating the basetable with the independent variables"
   ]
  },
  {
   "cell_type": "code",
   "execution_count": 20,
   "id": "9693144a",
   "metadata": {},
   "outputs": [],
   "source": [
    "# filter on live because each project starts live and hence only projects that are live can be first, so these are \n",
    "# the ones that we will include\n",
    "kickstarter_basetable = kickstarter_processed.filter(F.col(\"state\") == \"live\") \\\n",
    "                                            .cache()\n",
    "\n",
    "# convert dataframe to pandas\n",
    "kickstarter_basetable = kickstarter_basetable.toPandas()\n",
    "\n",
    "# merge project id and min scrapte date back to original dataframe to get first scrape per project\n",
    "kickstarter_basetable['scrape_date'] =  pd.to_datetime(kickstarter_basetable['scrape_date'])"
   ]
  },
  {
   "cell_type": "code",
   "execution_count": 21,
   "id": "5014962b",
   "metadata": {},
   "outputs": [],
   "source": [
    "# group id by min scrape date to get min scrape date per unique project so we can filter on the first 7 days (first scrape date)\n",
    "project_id_min_scrape = kickstarter_basetable.groupby('id').agg({'scrape_date':'min'}).reset_index()\n",
    "\n",
    "# rename for easy joining\n",
    "project_id_min_scrape.columns = ['id','scrape_date']\n",
    "\n",
    "# merge max scrape dat and dataframe\n",
    "kickstarter_basetable = kickstarter_basetable.merge(project_id_min_scrape, on = ['id','scrape_date'], how = 'inner').drop_duplicates()\n",
    "\n"
   ]
  },
  {
   "cell_type": "code",
   "execution_count": 22,
   "id": "2bbe4326",
   "metadata": {},
   "outputs": [
    {
     "data": {
      "text/plain": [
       "(46119, 22)"
      ]
     },
     "execution_count": 22,
     "metadata": {},
     "output_type": "execute_result"
    }
   ],
   "source": [
    "kickstarter_basetable.shape"
   ]
  },
  {
   "cell_type": "code",
   "execution_count": 23,
   "id": "fbb74839",
   "metadata": {
    "scrolled": true
   },
   "outputs": [
    {
     "name": "stdout",
     "output_type": "stream",
     "text": [
      "run_id has 19 unique values.\n",
      "id has 42721 unique values.\n",
      "project_name has 42622 unique values.\n",
      "project_description has 42385 unique values.\n",
      "project_url has 42722 unique values.\n",
      "photo_url has 42733 unique values.\n",
      "country has 25 unique values.\n",
      "currency has 15 unique values.\n",
      "staff_pick has 2 unique values.\n",
      "creator_name has 35880 unique values.\n",
      "backers_count has 2239 unique values.\n",
      "goal has 2914 unique values.\n",
      "pledged has 19702 unique values.\n",
      "state has 1 unique values.\n",
      "launched_at has 42576 unique values.\n",
      "analytics_name has 154 unique values.\n",
      "name has 160 unique values.\n",
      "parent_name has 16 unique values.\n",
      "slug has 170 unique values.\n",
      "deadline has 39454 unique values.\n",
      "scrape_date has 19 unique values.\n",
      "duration has 64 unique values.\n"
     ]
    }
   ],
   "source": [
    "# check for unique values per column in the dataset\n",
    "# we can conclude that we still have some duplicates in the dataset\n",
    "for col in kickstarter_basetable.columns:\n",
    "    print(\"%s has %s unique values.\"  %(col,len(kickstarter_basetable[col].unique())))"
   ]
  },
  {
   "cell_type": "code",
   "execution_count": 24,
   "id": "03f5866b",
   "metadata": {},
   "outputs": [],
   "source": [
    "# drop columns we don't need anymore\n",
    "kickstarter_basetable = kickstarter_basetable.drop(columns=['state'])"
   ]
  },
  {
   "cell_type": "markdown",
   "id": "f39675ab",
   "metadata": {},
   "source": [
    "What we can observe below is that a lot of projects that have the state live already have higher pledged than goal and hence these projects could actually already be considered as a successful project since the goal has already been reached. "
   ]
  },
  {
   "cell_type": "code",
   "execution_count": 25,
   "id": "a9717909",
   "metadata": {},
   "outputs": [
    {
     "data": {
      "text/plain": [
       "16709"
      ]
     },
     "execution_count": 25,
     "metadata": {},
     "output_type": "execute_result"
    }
   ],
   "source": [
    "(kickstarter_basetable['pledged'] > kickstarter_basetable['goal']).sum()"
   ]
  },
  {
   "cell_type": "markdown",
   "id": "0d1972e5",
   "metadata": {},
   "source": [
    "### What projects do we keep? We inner join so we only keep projects that went from live --> succes/fail/cancelled?"
   ]
  },
  {
   "cell_type": "code",
   "execution_count": 106,
   "id": "1a4aef8e",
   "metadata": {},
   "outputs": [],
   "source": [
    "final_df = kickstarter_depedent[['state','id']].merge(kickstarter_basetable, how ='inner', on='id')"
   ]
  },
  {
   "cell_type": "code",
   "execution_count": 107,
   "id": "bd1c3e4e",
   "metadata": {
    "scrolled": true
   },
   "outputs": [
    {
     "name": "stdout",
     "output_type": "stream",
     "text": [
      "state 3\n",
      "id 28629\n",
      "run_id 17\n",
      "project_name 28614\n",
      "project_description 28467\n",
      "project_url 28629\n",
      "photo_url 28641\n",
      "country 25\n",
      "currency 15\n",
      "staff_pick 2\n",
      "creator_name 24377\n",
      "backers_count 2191\n",
      "goal 2024\n",
      "pledged 16990\n",
      "launched_at 28544\n",
      "analytics_name 139\n",
      "name 160\n",
      "parent_name 16\n",
      "slug 170\n",
      "deadline 26419\n",
      "scrape_date 17\n",
      "duration 62\n"
     ]
    }
   ],
   "source": [
    "for column in final_df.columns:\n",
    "    print(column, len(final_df[column].unique()))"
   ]
  },
  {
   "cell_type": "markdown",
   "id": "82bf6e91",
   "metadata": {},
   "source": [
    "So we have 28629 unique projects that have a live status and a status that is succesful/failed/cancelled in the period between 01/01/2020 and 01/09/2021"
   ]
  },
  {
   "cell_type": "markdown",
   "id": "a1dce33f",
   "metadata": {},
   "source": [
    "#### Add a column to indicate how many days the difference is between the scrape and the launched date"
   ]
  },
  {
   "cell_type": "code",
   "execution_count": 108,
   "id": "819c901d",
   "metadata": {},
   "outputs": [],
   "source": [
    "# Convert to datetime\n",
    "final_df[\"launched_at\"] = pd.to_datetime(pd.to_datetime(final_df[\"launched_at\"], format = '%Y-%m-%d').dt.date)\n",
    "final_df[\"scrape_date\"] = pd.to_datetime(pd.to_datetime(final_df[\"scrape_date\"], format = '%Y-%m-%d').dt.date)\n",
    "\n",
    "# create days since scrape\n",
    "final_df['Days_since_scrape'] = (final_df['scrape_date'] ) - final_df[\"launched_at\"]\n"
   ]
  },
  {
   "cell_type": "code",
   "execution_count": 109,
   "id": "d7877f9e",
   "metadata": {},
   "outputs": [],
   "source": [
    "# select variables we will use for modeling\n",
    "variables = ['state',\n",
    "             'id',\n",
    "             'project_name',\n",
    "             'project_description',\n",
    "             'project_url',\n",
    "             'creator_name',\n",
    "             'staff_pick',\n",
    "             'goal',\n",
    "             'launched_at',\n",
    "             'analytics_name',\n",
    "             'name',\n",
    "             'parent_name',\n",
    "             'slug',\n",
    "             'scrape_date',\n",
    "             'duration',\n",
    "             'pledged',\n",
    "             'backers_count',\n",
    "             'Days_since_scrape'\n",
    "            ]"
   ]
  },
  {
   "cell_type": "code",
   "execution_count": 110,
   "id": "8b64b7fc",
   "metadata": {},
   "outputs": [],
   "source": [
    "final_df = final_df[variables].drop_duplicates()"
   ]
  },
  {
   "cell_type": "markdown",
   "id": "44a20148",
   "metadata": {},
   "source": [
    "## Filtering dataframe based on 7 days or 25 percent of project duration time \n",
    "Based on the information on the kickstarter database we observed that the goal, creator name, launched at and the duration cannot be changed during the project funding period. Hence, we will set all other variables after 7 days, or 25% of the duration period for projects with duration >= 30 to na, but will keep the other variables the same as these values cannot change. Hence, even though we do not have scrape within the independent period, no information after the independent period is used in the models since this information has not changed after the independent period.  \n",
    "\n",
    "\n",
    "https://help.kickstarter.com/hc/en-us/articles/115005135314-Can-a-project-be-edited-after-launching-"
   ]
  },
  {
   "cell_type": "code",
   "execution_count": 111,
   "id": "279bd4d3",
   "metadata": {},
   "outputs": [],
   "source": [
    "# Create column that contains the days within the first 25% of the duration\n",
    "final_df['Duration_25_perc'] = np.round(final_df['duration'] *0.25,0 )"
   ]
  },
  {
   "cell_type": "code",
   "execution_count": 112,
   "id": "3c9ce6f0",
   "metadata": {},
   "outputs": [],
   "source": [
    "# Select all the columns \n",
    "columns_to_na = [col for col in list(final_df.columns) if col not in ['goal','state','creator_name','launched_at','project_url']]"
   ]
  },
  {
   "cell_type": "code",
   "execution_count": 113,
   "id": "22a4e094",
   "metadata": {},
   "outputs": [],
   "source": [
    "df_no_25_perc_limit = final_df[['goal','duration','id','state','creator_name','launched_at','Duration_25_perc','project_url']]"
   ]
  },
  {
   "cell_type": "code",
   "execution_count": 114,
   "id": "9b0169e7",
   "metadata": {},
   "outputs": [
    {
     "data": {
      "text/html": [
       "<div>\n",
       "<style scoped>\n",
       "    .dataframe tbody tr th:only-of-type {\n",
       "        vertical-align: middle;\n",
       "    }\n",
       "\n",
       "    .dataframe tbody tr th {\n",
       "        vertical-align: top;\n",
       "    }\n",
       "\n",
       "    .dataframe thead th {\n",
       "        text-align: right;\n",
       "    }\n",
       "</style>\n",
       "<table border=\"1\" class=\"dataframe\">\n",
       "  <thead>\n",
       "    <tr style=\"text-align: right;\">\n",
       "      <th></th>\n",
       "      <th>goal</th>\n",
       "      <th>duration</th>\n",
       "      <th>id</th>\n",
       "      <th>state</th>\n",
       "      <th>creator_name</th>\n",
       "      <th>launched_at</th>\n",
       "      <th>Duration_25_perc</th>\n",
       "      <th>project_url</th>\n",
       "    </tr>\n",
       "  </thead>\n",
       "  <tbody>\n",
       "    <tr>\n",
       "      <th>0</th>\n",
       "      <td>500.0</td>\n",
       "      <td>30</td>\n",
       "      <td>1440011688</td>\n",
       "      <td>successful</td>\n",
       "      <td>Lithiumaniac</td>\n",
       "      <td>2021-04-08</td>\n",
       "      <td>8.0</td>\n",
       "      <td>https://www.kickstarter.com/projects/-aeolus/a...</td>\n",
       "    </tr>\n",
       "    <tr>\n",
       "      <th>1</th>\n",
       "      <td>2000.0</td>\n",
       "      <td>30</td>\n",
       "      <td>689293158</td>\n",
       "      <td>successful</td>\n",
       "      <td>CYON</td>\n",
       "      <td>2020-05-05</td>\n",
       "      <td>8.0</td>\n",
       "      <td>https://www.kickstarter.com/projects/-cyon-/cy...</td>\n",
       "    </tr>\n",
       "    <tr>\n",
       "      <th>2</th>\n",
       "      <td>18000.0</td>\n",
       "      <td>30</td>\n",
       "      <td>39986636</td>\n",
       "      <td>successful</td>\n",
       "      <td>Dam</td>\n",
       "      <td>2021-04-06</td>\n",
       "      <td>8.0</td>\n",
       "      <td>https://www.kickstarter.com/projects/-myowngam...</td>\n",
       "    </tr>\n",
       "    <tr>\n",
       "      <th>3</th>\n",
       "      <td>10000.0</td>\n",
       "      <td>30</td>\n",
       "      <td>520882120</td>\n",
       "      <td>successful</td>\n",
       "      <td>mystiic</td>\n",
       "      <td>2020-10-03</td>\n",
       "      <td>8.0</td>\n",
       "      <td>https://www.kickstarter.com/projects/-mystiic/...</td>\n",
       "    </tr>\n",
       "    <tr>\n",
       "      <th>4</th>\n",
       "      <td>6000.0</td>\n",
       "      <td>30</td>\n",
       "      <td>1347440454</td>\n",
       "      <td>successful</td>\n",
       "      <td>mystiic</td>\n",
       "      <td>2020-04-18</td>\n",
       "      <td>8.0</td>\n",
       "      <td>https://www.kickstarter.com/projects/-mystiic/...</td>\n",
       "    </tr>\n",
       "  </tbody>\n",
       "</table>\n",
       "</div>"
      ],
      "text/plain": [
       "      goal  duration          id       state  creator_name launched_at  \\\n",
       "0    500.0        30  1440011688  successful  Lithiumaniac  2021-04-08   \n",
       "1   2000.0        30   689293158  successful          CYON  2020-05-05   \n",
       "2  18000.0        30    39986636  successful           Dam  2021-04-06   \n",
       "3  10000.0        30   520882120  successful       mystiic  2020-10-03   \n",
       "4   6000.0        30  1347440454  successful       mystiic  2020-04-18   \n",
       "\n",
       "   Duration_25_perc                                        project_url  \n",
       "0               8.0  https://www.kickstarter.com/projects/-aeolus/a...  \n",
       "1               8.0  https://www.kickstarter.com/projects/-cyon-/cy...  \n",
       "2               8.0  https://www.kickstarter.com/projects/-myowngam...  \n",
       "3               8.0  https://www.kickstarter.com/projects/-mystiic/...  \n",
       "4               8.0  https://www.kickstarter.com/projects/-mystiic/...  "
      ]
     },
     "execution_count": 114,
     "metadata": {},
     "output_type": "execute_result"
    }
   ],
   "source": [
    "df_no_25_perc_limit.head()"
   ]
  },
  {
   "cell_type": "code",
   "execution_count": 115,
   "id": "ec4ee5a5",
   "metadata": {},
   "outputs": [],
   "source": [
    "df_25_perc_limit = final_df[columns_to_na]"
   ]
  },
  {
   "cell_type": "code",
   "execution_count": 116,
   "id": "e2ef48e3",
   "metadata": {
    "scrolled": true
   },
   "outputs": [],
   "source": [
    "# filter dataframe based on condition less than 7 days (<= because start at 0)\n",
    "# filter duration more than 30 days on percentage duration 25% (add 1 to scrape date otherwise starts at 0 days)\n",
    "df_25_perc_limit = df_25_perc_limit[ (df_25_perc_limit['Days_since_scrape'].dt.days <= 6 ) |\n",
    "                  (\n",
    "                      (df_25_perc_limit['duration'] >30) & (df_25_perc_limit['Duration_25_perc'] > df_25_perc_limit['Days_since_scrape'].dt.days )\n",
    "                  )]"
   ]
  },
  {
   "cell_type": "code",
   "execution_count": 117,
   "id": "22799550",
   "metadata": {},
   "outputs": [],
   "source": [
    "final_df = df_no_25_perc_limit.merge(df_25_perc_limit.drop(columns=['duration','Duration_25_perc']), on = 'id', how = 'left').drop_duplicates()"
   ]
  },
  {
   "cell_type": "code",
   "execution_count": 123,
   "id": "42d86b3c",
   "metadata": {
    "scrolled": true
   },
   "outputs": [
    {
     "data": {
      "text/plain": [
       "2 days     2300\n",
       "1 days     1394\n",
       "3 days     1189\n",
       "6 days     1095\n",
       "5 days      651\n",
       "4 days      466\n",
       "7 days      344\n",
       "8 days      310\n",
       "9 days      305\n",
       "0 days      289\n",
       "10 days     211\n",
       "13 days     127\n",
       "14 days     122\n",
       "12 days     114\n",
       "11 days     104\n",
       "Name: Days_since_scrape, dtype: int64"
      ]
     },
     "execution_count": 123,
     "metadata": {},
     "output_type": "execute_result"
    }
   ],
   "source": [
    "final_df['Days_since_scrape'].value_counts()"
   ]
  },
  {
   "cell_type": "code",
   "execution_count": 124,
   "id": "d9b5e60c",
   "metadata": {},
   "outputs": [
    {
     "data": {
      "text/html": [
       "<div>\n",
       "<style scoped>\n",
       "    .dataframe tbody tr th:only-of-type {\n",
       "        vertical-align: middle;\n",
       "    }\n",
       "\n",
       "    .dataframe tbody tr th {\n",
       "        vertical-align: top;\n",
       "    }\n",
       "\n",
       "    .dataframe thead th {\n",
       "        text-align: right;\n",
       "    }\n",
       "</style>\n",
       "<table border=\"1\" class=\"dataframe\">\n",
       "  <thead>\n",
       "    <tr style=\"text-align: right;\">\n",
       "      <th></th>\n",
       "      <th>goal</th>\n",
       "      <th>duration</th>\n",
       "      <th>id</th>\n",
       "      <th>state</th>\n",
       "      <th>creator_name</th>\n",
       "      <th>launched_at</th>\n",
       "      <th>Duration_25_perc</th>\n",
       "      <th>project_url</th>\n",
       "      <th>project_name</th>\n",
       "      <th>project_description</th>\n",
       "      <th>staff_pick</th>\n",
       "      <th>analytics_name</th>\n",
       "      <th>name</th>\n",
       "      <th>parent_name</th>\n",
       "      <th>slug</th>\n",
       "      <th>scrape_date</th>\n",
       "      <th>pledged</th>\n",
       "      <th>backers_count</th>\n",
       "      <th>Days_since_scrape</th>\n",
       "    </tr>\n",
       "  </thead>\n",
       "  <tbody>\n",
       "    <tr>\n",
       "      <th>43</th>\n",
       "      <td>15000.0</td>\n",
       "      <td>60</td>\n",
       "      <td>1310701070</td>\n",
       "      <td>failed</td>\n",
       "      <td>Marlon Jones</td>\n",
       "      <td>2021-03-04</td>\n",
       "      <td>15.0</td>\n",
       "      <td>https://www.kickstarter.com/projects/101070927...</td>\n",
       "      <td>Sports World United the only sports social med...</td>\n",
       "      <td>Sports World United is the social media app st...</td>\n",
       "      <td>False</td>\n",
       "      <td>None</td>\n",
       "      <td>Apps</td>\n",
       "      <td>Technology</td>\n",
       "      <td>technology/apps</td>\n",
       "      <td>2021-03-18</td>\n",
       "      <td>2.00</td>\n",
       "      <td>2.0</td>\n",
       "      <td>14 days</td>\n",
       "    </tr>\n",
       "    <tr>\n",
       "      <th>185</th>\n",
       "      <td>23500.0</td>\n",
       "      <td>60</td>\n",
       "      <td>1674147714</td>\n",
       "      <td>failed</td>\n",
       "      <td>Julio Cesar Vargas Castro</td>\n",
       "      <td>2020-07-30</td>\n",
       "      <td>15.0</td>\n",
       "      <td>https://www.kickstarter.com/projects/107691688...</td>\n",
       "      <td>Mecanismo de apertura de puerta con pedal</td>\n",
       "      <td>Mitiga el nivel de propagación del virus \"Covi...</td>\n",
       "      <td>False</td>\n",
       "      <td>None</td>\n",
       "      <td>Gadgets</td>\n",
       "      <td>Technology</td>\n",
       "      <td>technology/gadgets</td>\n",
       "      <td>2020-08-13</td>\n",
       "      <td>1.00</td>\n",
       "      <td>1.0</td>\n",
       "      <td>14 days</td>\n",
       "    </tr>\n",
       "    <tr>\n",
       "      <th>840</th>\n",
       "      <td>15000.0</td>\n",
       "      <td>60</td>\n",
       "      <td>33234742</td>\n",
       "      <td>canceled</td>\n",
       "      <td>Meranda</td>\n",
       "      <td>2021-04-01</td>\n",
       "      <td>15.0</td>\n",
       "      <td>https://www.kickstarter.com/projects/132325775...</td>\n",
       "      <td>Meranda's Micro bakery</td>\n",
       "      <td>Mobile micro bakery.</td>\n",
       "      <td>False</td>\n",
       "      <td>Farmer's Markets</td>\n",
       "      <td>Farmer's Markets</td>\n",
       "      <td>Food</td>\n",
       "      <td>food/farmer's markets</td>\n",
       "      <td>2021-04-15</td>\n",
       "      <td>176.00</td>\n",
       "      <td>5.0</td>\n",
       "      <td>14 days</td>\n",
       "    </tr>\n",
       "    <tr>\n",
       "      <th>1258</th>\n",
       "      <td>2500.0</td>\n",
       "      <td>61</td>\n",
       "      <td>477253221</td>\n",
       "      <td>failed</td>\n",
       "      <td>Carter Pembridge</td>\n",
       "      <td>2020-10-29</td>\n",
       "      <td>15.0</td>\n",
       "      <td>https://www.kickstarter.com/projects/149304461...</td>\n",
       "      <td>STAR WARS: Scars of the Past</td>\n",
       "      <td>STAR WARS Scars of the Past is an animated tv ...</td>\n",
       "      <td>False</td>\n",
       "      <td>None</td>\n",
       "      <td>Animation</td>\n",
       "      <td>Film &amp; Video</td>\n",
       "      <td>film &amp; video/animation</td>\n",
       "      <td>2020-11-12</td>\n",
       "      <td>251.29</td>\n",
       "      <td>3.0</td>\n",
       "      <td>14 days</td>\n",
       "    </tr>\n",
       "    <tr>\n",
       "      <th>1627</th>\n",
       "      <td>200.0</td>\n",
       "      <td>60</td>\n",
       "      <td>384170202</td>\n",
       "      <td>successful</td>\n",
       "      <td>The Family Project</td>\n",
       "      <td>2020-04-02</td>\n",
       "      <td>15.0</td>\n",
       "      <td>https://www.kickstarter.com/projects/163054470...</td>\n",
       "      <td>Dark Ice Saga: The Rescue</td>\n",
       "      <td>A throwback-platformer for PC, designed by The...</td>\n",
       "      <td>False</td>\n",
       "      <td>None</td>\n",
       "      <td>Video Games</td>\n",
       "      <td>Games</td>\n",
       "      <td>games/video games</td>\n",
       "      <td>2020-04-16</td>\n",
       "      <td>48.00</td>\n",
       "      <td>6.0</td>\n",
       "      <td>14 days</td>\n",
       "    </tr>\n",
       "  </tbody>\n",
       "</table>\n",
       "</div>"
      ],
      "text/plain": [
       "         goal  duration          id       state               creator_name  \\\n",
       "43    15000.0        60  1310701070      failed               Marlon Jones   \n",
       "185   23500.0        60  1674147714      failed  Julio Cesar Vargas Castro   \n",
       "840   15000.0        60    33234742    canceled                    Meranda   \n",
       "1258   2500.0        61   477253221      failed           Carter Pembridge   \n",
       "1627    200.0        60   384170202  successful         The Family Project   \n",
       "\n",
       "     launched_at  Duration_25_perc  \\\n",
       "43    2021-03-04              15.0   \n",
       "185   2020-07-30              15.0   \n",
       "840   2021-04-01              15.0   \n",
       "1258  2020-10-29              15.0   \n",
       "1627  2020-04-02              15.0   \n",
       "\n",
       "                                            project_url  \\\n",
       "43    https://www.kickstarter.com/projects/101070927...   \n",
       "185   https://www.kickstarter.com/projects/107691688...   \n",
       "840   https://www.kickstarter.com/projects/132325775...   \n",
       "1258  https://www.kickstarter.com/projects/149304461...   \n",
       "1627  https://www.kickstarter.com/projects/163054470...   \n",
       "\n",
       "                                           project_name  \\\n",
       "43    Sports World United the only sports social med...   \n",
       "185           Mecanismo de apertura de puerta con pedal   \n",
       "840                              Meranda's Micro bakery   \n",
       "1258                       STAR WARS: Scars of the Past   \n",
       "1627                          Dark Ice Saga: The Rescue   \n",
       "\n",
       "                                    project_description staff_pick  \\\n",
       "43    Sports World United is the social media app st...      False   \n",
       "185   Mitiga el nivel de propagación del virus \"Covi...      False   \n",
       "840                                Mobile micro bakery.      False   \n",
       "1258  STAR WARS Scars of the Past is an animated tv ...      False   \n",
       "1627  A throwback-platformer for PC, designed by The...      False   \n",
       "\n",
       "        analytics_name              name   parent_name  \\\n",
       "43                None              Apps    Technology   \n",
       "185               None           Gadgets    Technology   \n",
       "840   Farmer's Markets  Farmer's Markets          Food   \n",
       "1258              None         Animation  Film & Video   \n",
       "1627              None       Video Games         Games   \n",
       "\n",
       "                        slug scrape_date  pledged  backers_count  \\\n",
       "43           technology/apps  2021-03-18     2.00            2.0   \n",
       "185       technology/gadgets  2020-08-13     1.00            1.0   \n",
       "840    food/farmer's markets  2021-04-15   176.00            5.0   \n",
       "1258  film & video/animation  2020-11-12   251.29            3.0   \n",
       "1627       games/video games  2020-04-16    48.00            6.0   \n",
       "\n",
       "     Days_since_scrape  \n",
       "43             14 days  \n",
       "185            14 days  \n",
       "840            14 days  \n",
       "1258           14 days  \n",
       "1627           14 days  "
      ]
     },
     "execution_count": 124,
     "metadata": {},
     "output_type": "execute_result"
    }
   ],
   "source": [
    "# check if lauchned dat for projects with larger durations is within days since scrape limit\n",
    "final_df[final_df['Days_since_scrape'].dt.days==14].head()"
   ]
  },
  {
   "cell_type": "markdown",
   "id": "b7ed41ca",
   "metadata": {},
   "source": [
    "There seems to be some error in the kickstarter data since for quite some scrapped kickstarter data the state = live, but, the amount pledged is already higher than the goal and hence these projects are actually already successful. This limits the managerial insights that can be derived from this variable. "
   ]
  },
  {
   "cell_type": "code",
   "execution_count": 125,
   "id": "3960ef1d",
   "metadata": {},
   "outputs": [],
   "source": [
    "more_than = final_df[final_df['pledged'] > final_df['goal']]"
   ]
  },
  {
   "cell_type": "code",
   "execution_count": 126,
   "id": "6c7f0bd3",
   "metadata": {},
   "outputs": [
    {
     "data": {
      "text/plain": [
       "successful    99.624765\n",
       "canceled       0.343965\n",
       "failed         0.031270\n",
       "Name: state, dtype: float64"
      ]
     },
     "execution_count": 126,
     "metadata": {},
     "output_type": "execute_result"
    }
   ],
   "source": [
    "more_than['state'].value_counts(normalize=True)*100"
   ]
  },
  {
   "cell_type": "markdown",
   "id": "cc0d0be7",
   "metadata": {},
   "source": [
    "### However, we still have duplicate values, this is due to the fact that some projects have multiple first scrapes that include different pledged amounts and backers"
   ]
  },
  {
   "cell_type": "code",
   "execution_count": 127,
   "id": "d978cc48",
   "metadata": {
    "scrolled": false
   },
   "outputs": [
    {
     "data": {
      "text/plain": [
       "(29785, 19)"
      ]
     },
     "execution_count": 127,
     "metadata": {},
     "output_type": "execute_result"
    }
   ],
   "source": [
    "final_df.shape"
   ]
  },
  {
   "cell_type": "code",
   "execution_count": 128,
   "id": "129182f9",
   "metadata": {
    "scrolled": true
   },
   "outputs": [
    {
     "data": {
      "text/html": [
       "<div>\n",
       "<style scoped>\n",
       "    .dataframe tbody tr th:only-of-type {\n",
       "        vertical-align: middle;\n",
       "    }\n",
       "\n",
       "    .dataframe tbody tr th {\n",
       "        vertical-align: top;\n",
       "    }\n",
       "\n",
       "    .dataframe thead th {\n",
       "        text-align: right;\n",
       "    }\n",
       "</style>\n",
       "<table border=\"1\" class=\"dataframe\">\n",
       "  <thead>\n",
       "    <tr style=\"text-align: right;\">\n",
       "      <th></th>\n",
       "      <th>id</th>\n",
       "      <th>pledged</th>\n",
       "    </tr>\n",
       "  </thead>\n",
       "  <tbody>\n",
       "    <tr>\n",
       "      <th>25145</th>\n",
       "      <td>1883988190</td>\n",
       "      <td>2</td>\n",
       "    </tr>\n",
       "    <tr>\n",
       "      <th>14385</th>\n",
       "      <td>1077736380</td>\n",
       "      <td>2</td>\n",
       "    </tr>\n",
       "  </tbody>\n",
       "</table>\n",
       "</div>"
      ],
      "text/plain": [
       "               id  pledged\n",
       "25145  1883988190        2\n",
       "14385  1077736380        2"
      ]
     },
     "execution_count": 128,
     "metadata": {},
     "output_type": "execute_result"
    }
   ],
   "source": [
    "final_df.groupby('id').agg({'pledged': 'count'}).reset_index().sort_values(by='pledged',ascending=False).head(2)"
   ]
  },
  {
   "cell_type": "code",
   "execution_count": 129,
   "id": "c03ea6dd",
   "metadata": {
    "scrolled": true
   },
   "outputs": [
    {
     "data": {
      "text/html": [
       "<div>\n",
       "<style scoped>\n",
       "    .dataframe tbody tr th:only-of-type {\n",
       "        vertical-align: middle;\n",
       "    }\n",
       "\n",
       "    .dataframe tbody tr th {\n",
       "        vertical-align: top;\n",
       "    }\n",
       "\n",
       "    .dataframe thead th {\n",
       "        text-align: right;\n",
       "    }\n",
       "</style>\n",
       "<table border=\"1\" class=\"dataframe\">\n",
       "  <thead>\n",
       "    <tr style=\"text-align: right;\">\n",
       "      <th></th>\n",
       "      <th>goal</th>\n",
       "      <th>duration</th>\n",
       "      <th>id</th>\n",
       "      <th>state</th>\n",
       "      <th>creator_name</th>\n",
       "      <th>launched_at</th>\n",
       "      <th>Duration_25_perc</th>\n",
       "      <th>project_url</th>\n",
       "      <th>project_name</th>\n",
       "      <th>project_description</th>\n",
       "      <th>staff_pick</th>\n",
       "      <th>analytics_name</th>\n",
       "      <th>name</th>\n",
       "      <th>parent_name</th>\n",
       "      <th>slug</th>\n",
       "      <th>scrape_date</th>\n",
       "      <th>pledged</th>\n",
       "      <th>backers_count</th>\n",
       "      <th>Days_since_scrape</th>\n",
       "    </tr>\n",
       "  </thead>\n",
       "  <tbody>\n",
       "    <tr>\n",
       "      <th>5016</th>\n",
       "      <td>12000.0</td>\n",
       "      <td>60</td>\n",
       "      <td>365762416</td>\n",
       "      <td>failed</td>\n",
       "      <td>NiC (Aaron or A-A-Ron)</td>\n",
       "      <td>2020-07-16</td>\n",
       "      <td>15.0</td>\n",
       "      <td>https://www.kickstarter.com/projects/acrossame...</td>\n",
       "      <td>NiC (upcoming artist)</td>\n",
       "      <td>I made a song called StaY InsidE and wanted to...</td>\n",
       "      <td>False</td>\n",
       "      <td>None</td>\n",
       "      <td>Pop</td>\n",
       "      <td>Music</td>\n",
       "      <td>music/pop</td>\n",
       "      <td>2020-07-16</td>\n",
       "      <td>16.0</td>\n",
       "      <td>2.0</td>\n",
       "      <td>0 days</td>\n",
       "    </tr>\n",
       "    <tr>\n",
       "      <th>5017</th>\n",
       "      <td>12000.0</td>\n",
       "      <td>60</td>\n",
       "      <td>365762416</td>\n",
       "      <td>failed</td>\n",
       "      <td>NiC (Aaron or A-A-Ron)</td>\n",
       "      <td>2020-07-16</td>\n",
       "      <td>15.0</td>\n",
       "      <td>https://www.kickstarter.com/projects/acrossame...</td>\n",
       "      <td>NiC (upcoming artist)</td>\n",
       "      <td>I made a song called StaY InsidE and wanted to...</td>\n",
       "      <td>False</td>\n",
       "      <td>None</td>\n",
       "      <td>Pop</td>\n",
       "      <td>Music</td>\n",
       "      <td>music/pop</td>\n",
       "      <td>2020-07-16</td>\n",
       "      <td>21.0</td>\n",
       "      <td>3.0</td>\n",
       "      <td>0 days</td>\n",
       "    </tr>\n",
       "  </tbody>\n",
       "</table>\n",
       "</div>"
      ],
      "text/plain": [
       "         goal  duration         id   state            creator_name  \\\n",
       "5016  12000.0        60  365762416  failed  NiC (Aaron or A-A-Ron)   \n",
       "5017  12000.0        60  365762416  failed  NiC (Aaron or A-A-Ron)   \n",
       "\n",
       "     launched_at  Duration_25_perc  \\\n",
       "5016  2020-07-16              15.0   \n",
       "5017  2020-07-16              15.0   \n",
       "\n",
       "                                            project_url  \\\n",
       "5016  https://www.kickstarter.com/projects/acrossame...   \n",
       "5017  https://www.kickstarter.com/projects/acrossame...   \n",
       "\n",
       "               project_name  \\\n",
       "5016  NiC (upcoming artist)   \n",
       "5017  NiC (upcoming artist)   \n",
       "\n",
       "                                    project_description staff_pick  \\\n",
       "5016  I made a song called StaY InsidE and wanted to...      False   \n",
       "5017  I made a song called StaY InsidE and wanted to...      False   \n",
       "\n",
       "     analytics_name name parent_name       slug scrape_date  pledged  \\\n",
       "5016           None  Pop       Music  music/pop  2020-07-16     16.0   \n",
       "5017           None  Pop       Music  music/pop  2020-07-16     21.0   \n",
       "\n",
       "      backers_count Days_since_scrape  \n",
       "5016            2.0            0 days  \n",
       "5017            3.0            0 days  "
      ]
     },
     "execution_count": 129,
     "metadata": {},
     "output_type": "execute_result"
    }
   ],
   "source": [
    "final_df[final_df['id'] == 365762416]"
   ]
  },
  {
   "cell_type": "markdown",
   "id": "c19c9889",
   "metadata": {},
   "source": [
    "### Hence, we caclulate the highest plegded per project id and inner join this back onto the dataframe to get the highest pleged/backers per project "
   ]
  },
  {
   "cell_type": "code",
   "execution_count": 130,
   "id": "f0880c7d",
   "metadata": {},
   "outputs": [],
   "source": [
    "# calculate max pleged per project id in the first 7 days \n",
    "max_pledged = final_df.groupby('id').agg({'pledged': 'max'}).reset_index()\n",
    "\n",
    "final_df = final_df.merge(max_pledged, on = ['id','pledged'], how = 'inner').drop_duplicates()"
   ]
  },
  {
   "cell_type": "markdown",
   "id": "3be07268",
   "metadata": {},
   "source": [
    "### After this we still have some very small amount of duplicates in the data as can be seen below. \n",
    "These duplicates, however, are some sort of error in the date since these scrapes are the same, but have different small diffeences in some of the variables. Since we can't really objectivly determine which one is correct, and the number of these project descriptions is very small, we don't think that this will influence our model and hence we decided to dump these projects from our dataset. "
   ]
  },
  {
   "cell_type": "code",
   "execution_count": 131,
   "id": "8b9e8a80",
   "metadata": {
    "scrolled": true
   },
   "outputs": [
    {
     "data": {
      "text/plain": [
       "(28636, 19)"
      ]
     },
     "execution_count": 131,
     "metadata": {},
     "output_type": "execute_result"
    }
   ],
   "source": [
    "final_df.shape"
   ]
  },
  {
   "cell_type": "code",
   "execution_count": 132,
   "id": "ad77c0b8",
   "metadata": {
    "scrolled": false
   },
   "outputs": [
    {
     "data": {
      "text/html": [
       "<div>\n",
       "<style scoped>\n",
       "    .dataframe tbody tr th:only-of-type {\n",
       "        vertical-align: middle;\n",
       "    }\n",
       "\n",
       "    .dataframe tbody tr th {\n",
       "        vertical-align: top;\n",
       "    }\n",
       "\n",
       "    .dataframe thead th {\n",
       "        text-align: right;\n",
       "    }\n",
       "</style>\n",
       "<table border=\"1\" class=\"dataframe\">\n",
       "  <thead>\n",
       "    <tr style=\"text-align: right;\">\n",
       "      <th></th>\n",
       "      <th>index</th>\n",
       "      <th>id</th>\n",
       "    </tr>\n",
       "  </thead>\n",
       "  <tbody>\n",
       "    <tr>\n",
       "      <th>0</th>\n",
       "      <td>791111913</td>\n",
       "      <td>2</td>\n",
       "    </tr>\n",
       "    <tr>\n",
       "      <th>1</th>\n",
       "      <td>1927865946</td>\n",
       "      <td>2</td>\n",
       "    </tr>\n",
       "    <tr>\n",
       "      <th>2</th>\n",
       "      <td>1204314581</td>\n",
       "      <td>2</td>\n",
       "    </tr>\n",
       "    <tr>\n",
       "      <th>3</th>\n",
       "      <td>1065140923</td>\n",
       "      <td>2</td>\n",
       "    </tr>\n",
       "    <tr>\n",
       "      <th>4</th>\n",
       "      <td>1786627104</td>\n",
       "      <td>2</td>\n",
       "    </tr>\n",
       "    <tr>\n",
       "      <th>5</th>\n",
       "      <td>794056644</td>\n",
       "      <td>2</td>\n",
       "    </tr>\n",
       "    <tr>\n",
       "      <th>6</th>\n",
       "      <td>325745443</td>\n",
       "      <td>2</td>\n",
       "    </tr>\n",
       "    <tr>\n",
       "      <th>7</th>\n",
       "      <td>538013404</td>\n",
       "      <td>1</td>\n",
       "    </tr>\n",
       "    <tr>\n",
       "      <th>8</th>\n",
       "      <td>2107833154</td>\n",
       "      <td>1</td>\n",
       "    </tr>\n",
       "    <tr>\n",
       "      <th>9</th>\n",
       "      <td>1633390421</td>\n",
       "      <td>1</td>\n",
       "    </tr>\n",
       "    <tr>\n",
       "      <th>10</th>\n",
       "      <td>855558188</td>\n",
       "      <td>1</td>\n",
       "    </tr>\n",
       "    <tr>\n",
       "      <th>11</th>\n",
       "      <td>604963354</td>\n",
       "      <td>1</td>\n",
       "    </tr>\n",
       "    <tr>\n",
       "      <th>12</th>\n",
       "      <td>895533363</td>\n",
       "      <td>1</td>\n",
       "    </tr>\n",
       "    <tr>\n",
       "      <th>13</th>\n",
       "      <td>1034276305</td>\n",
       "      <td>1</td>\n",
       "    </tr>\n",
       "    <tr>\n",
       "      <th>14</th>\n",
       "      <td>1553030261</td>\n",
       "      <td>1</td>\n",
       "    </tr>\n",
       "  </tbody>\n",
       "</table>\n",
       "</div>"
      ],
      "text/plain": [
       "         index  id\n",
       "0    791111913   2\n",
       "1   1927865946   2\n",
       "2   1204314581   2\n",
       "3   1065140923   2\n",
       "4   1786627104   2\n",
       "5    794056644   2\n",
       "6    325745443   2\n",
       "7    538013404   1\n",
       "8   2107833154   1\n",
       "9   1633390421   1\n",
       "10   855558188   1\n",
       "11   604963354   1\n",
       "12   895533363   1\n",
       "13  1034276305   1\n",
       "14  1553030261   1"
      ]
     },
     "execution_count": 132,
     "metadata": {},
     "output_type": "execute_result"
    }
   ],
   "source": [
    "id_count = final_df['id'].value_counts().reset_index()\n",
    "id_count.head(15)"
   ]
  },
  {
   "cell_type": "code",
   "execution_count": 133,
   "id": "0493ec5d",
   "metadata": {
    "scrolled": true
   },
   "outputs": [
    {
     "data": {
      "text/html": [
       "<div>\n",
       "<style scoped>\n",
       "    .dataframe tbody tr th:only-of-type {\n",
       "        vertical-align: middle;\n",
       "    }\n",
       "\n",
       "    .dataframe tbody tr th {\n",
       "        vertical-align: top;\n",
       "    }\n",
       "\n",
       "    .dataframe thead th {\n",
       "        text-align: right;\n",
       "    }\n",
       "</style>\n",
       "<table border=\"1\" class=\"dataframe\">\n",
       "  <thead>\n",
       "    <tr style=\"text-align: right;\">\n",
       "      <th></th>\n",
       "      <th>goal</th>\n",
       "      <th>duration</th>\n",
       "      <th>id</th>\n",
       "      <th>state</th>\n",
       "      <th>creator_name</th>\n",
       "      <th>launched_at</th>\n",
       "      <th>Duration_25_perc</th>\n",
       "      <th>project_url</th>\n",
       "      <th>project_name</th>\n",
       "      <th>project_description</th>\n",
       "      <th>staff_pick</th>\n",
       "      <th>analytics_name</th>\n",
       "      <th>name</th>\n",
       "      <th>parent_name</th>\n",
       "      <th>slug</th>\n",
       "      <th>scrape_date</th>\n",
       "      <th>pledged</th>\n",
       "      <th>backers_count</th>\n",
       "      <th>Days_since_scrape</th>\n",
       "    </tr>\n",
       "  </thead>\n",
       "  <tbody>\n",
       "    <tr>\n",
       "      <th>968</th>\n",
       "      <td>30000.0</td>\n",
       "      <td>30</td>\n",
       "      <td>1927865946</td>\n",
       "      <td>failed</td>\n",
       "      <td>Victor Lee</td>\n",
       "      <td>2021-01-12</td>\n",
       "      <td>8.0</td>\n",
       "      <td>https://www.kickstarter.com/projects/147725364...</td>\n",
       "      <td>Wipe On Armor: Nanotechnology-based protection...</td>\n",
       "      <td>Screen Protector With Anti-microbial Propertie...</td>\n",
       "      <td>False</td>\n",
       "      <td>None</td>\n",
       "      <td>Gadgets</td>\n",
       "      <td>Technology</td>\n",
       "      <td>technology/gadgets</td>\n",
       "      <td>2021-01-14</td>\n",
       "      <td>1902.0</td>\n",
       "      <td>36.0</td>\n",
       "      <td>2 days</td>\n",
       "    </tr>\n",
       "    <tr>\n",
       "      <th>969</th>\n",
       "      <td>30000.0</td>\n",
       "      <td>30</td>\n",
       "      <td>1927865946</td>\n",
       "      <td>failed</td>\n",
       "      <td>Victor Lee</td>\n",
       "      <td>2021-01-12</td>\n",
       "      <td>8.0</td>\n",
       "      <td>https://www.kickstarter.com/projects/147725364...</td>\n",
       "      <td>Wipe On Armor: Nanotechnology-based protection...</td>\n",
       "      <td>Wipe On Armor, a nanotechnology-based coating ...</td>\n",
       "      <td>False</td>\n",
       "      <td>None</td>\n",
       "      <td>Gadgets</td>\n",
       "      <td>Technology</td>\n",
       "      <td>technology/gadgets</td>\n",
       "      <td>2021-01-14</td>\n",
       "      <td>1902.0</td>\n",
       "      <td>36.0</td>\n",
       "      <td>2 days</td>\n",
       "    </tr>\n",
       "  </tbody>\n",
       "</table>\n",
       "</div>"
      ],
      "text/plain": [
       "        goal  duration          id   state creator_name launched_at  \\\n",
       "968  30000.0        30  1927865946  failed   Victor Lee  2021-01-12   \n",
       "969  30000.0        30  1927865946  failed   Victor Lee  2021-01-12   \n",
       "\n",
       "     Duration_25_perc                                        project_url  \\\n",
       "968               8.0  https://www.kickstarter.com/projects/147725364...   \n",
       "969               8.0  https://www.kickstarter.com/projects/147725364...   \n",
       "\n",
       "                                          project_name  \\\n",
       "968  Wipe On Armor: Nanotechnology-based protection...   \n",
       "969  Wipe On Armor: Nanotechnology-based protection...   \n",
       "\n",
       "                                   project_description staff_pick  \\\n",
       "968  Screen Protector With Anti-microbial Propertie...      False   \n",
       "969  Wipe On Armor, a nanotechnology-based coating ...      False   \n",
       "\n",
       "    analytics_name     name parent_name                slug scrape_date  \\\n",
       "968           None  Gadgets  Technology  technology/gadgets  2021-01-14   \n",
       "969           None  Gadgets  Technology  technology/gadgets  2021-01-14   \n",
       "\n",
       "     pledged  backers_count Days_since_scrape  \n",
       "968   1902.0           36.0            2 days  \n",
       "969   1902.0           36.0            2 days  "
      ]
     },
     "execution_count": 133,
     "metadata": {},
     "output_type": "execute_result"
    }
   ],
   "source": [
    "final_df[final_df['id'] == 1927865946]"
   ]
  },
  {
   "cell_type": "code",
   "execution_count": 134,
   "id": "ffaea659",
   "metadata": {},
   "outputs": [],
   "source": [
    "# get the unique projects with unqiue values per row\n",
    "unique_ids = id_count[id_count['id']==1]\n",
    "unique_ids = unique_ids[['index']]\n",
    "unique_ids = unique_ids.rename(columns={'index': 'id'})\n",
    "\n",
    "# join this back on the final dataframe to keep the unique correct project descriptions only\n",
    "final_df = final_df.merge(unique_ids,how='inner', on ='id' )"
   ]
  },
  {
   "cell_type": "markdown",
   "id": "fff98702",
   "metadata": {},
   "source": [
    "### This results in a basetable with unique project ids per row"
   ]
  },
  {
   "cell_type": "code",
   "execution_count": 135,
   "id": "9dbf96f5",
   "metadata": {},
   "outputs": [
    {
     "data": {
      "text/plain": [
       "(28622, 19)"
      ]
     },
     "execution_count": 135,
     "metadata": {},
     "output_type": "execute_result"
    }
   ],
   "source": [
    "final_df.shape"
   ]
  },
  {
   "cell_type": "code",
   "execution_count": 136,
   "id": "869735c6",
   "metadata": {
    "scrolled": false
   },
   "outputs": [
    {
     "data": {
      "text/plain": [
       "28622"
      ]
     },
     "execution_count": 136,
     "metadata": {},
     "output_type": "execute_result"
    }
   ],
   "source": [
    "len(final_df['id'].unique())"
   ]
  },
  {
   "cell_type": "markdown",
   "id": "dd2bfb94",
   "metadata": {},
   "source": [
    "### Save dataframe to use for analysis"
   ]
  },
  {
   "cell_type": "code",
   "execution_count": 137,
   "id": "b1118d55",
   "metadata": {},
   "outputs": [],
   "source": [
    "final_df.to_csv('kickstarter_data.csv',sep=';')"
   ]
  }
 ],
 "metadata": {
  "kernelspec": {
   "display_name": "Python 3 (ipykernel)",
   "language": "python",
   "name": "python3"
  },
  "language_info": {
   "codemirror_mode": {
    "name": "ipython",
    "version": 3
   },
   "file_extension": ".py",
   "mimetype": "text/x-python",
   "name": "python",
   "nbconvert_exporter": "python",
   "pygments_lexer": "ipython3",
   "version": "3.9.12"
  }
 },
 "nbformat": 4,
 "nbformat_minor": 5
}
